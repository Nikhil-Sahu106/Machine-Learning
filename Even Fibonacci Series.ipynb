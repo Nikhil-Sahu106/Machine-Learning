{
 "cells": [
  {
   "cell_type": "markdown",
   "id": "732740e2",
   "metadata": {},
   "source": [
    "# Even Fibonacci series"
   ]
  },
  {
   "cell_type": "code",
   "execution_count": 2,
   "id": "aaca7633",
   "metadata": {},
   "outputs": [
    {
     "name": "stdout",
     "output_type": "stream",
     "text": [
      "1000\n",
      "798\n"
     ]
    }
   ],
   "source": [
    "n = int(input())\n",
    "fs0 = 0\n",
    "fs1 = 1\n",
    "i = 2\n",
    "fs = 0\n",
    "for i in range(2,n): \n",
    "    fs3 = fs0 + fs1\n",
    "    fs0 = fs1\n",
    "    fs1 = fs3\n",
    "    if fs3%2==0 and fs3 <= n :\n",
    "        fs += fs3\n",
    "print(fs)"
   ]
  },
  {
   "cell_type": "markdown",
   "id": "bce2999e",
   "metadata": {},
   "source": []
  },
  {
   "cell_type": "code",
   "execution_count": null,
   "id": "17b070a1",
   "metadata": {},
   "outputs": [],
   "source": []
  },
  {
   "cell_type": "code",
   "execution_count": null,
   "id": "4c87f03f",
   "metadata": {},
   "outputs": [],
   "source": []
  }
 ],
 "metadata": {
  "kernelspec": {
   "display_name": "Python 3 (ipykernel)",
   "language": "python",
   "name": "python3"
  },
  "language_info": {
   "codemirror_mode": {
    "name": "ipython",
    "version": 3
   },
   "file_extension": ".py",
   "mimetype": "text/x-python",
   "name": "python",
   "nbconvert_exporter": "python",
   "pygments_lexer": "ipython3",
   "version": "3.9.7"
  }
 },
 "nbformat": 4,
 "nbformat_minor": 5
}
