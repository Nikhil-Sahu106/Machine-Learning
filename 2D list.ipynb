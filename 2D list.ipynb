{
 "cells": [
  {
   "cell_type": "code",
   "execution_count": null,
   "id": "7103fea6",
   "metadata": {},
   "outputs": [],
   "source": [
    "\n",
    "str = input().strip().split()\n",
    "\n",
    "m = int(str[0])\n",
    "n = int(str[1])\n",
    "\n",
    "list2D = [[input([i*m + j]) for j in range(n)] for i in range(m)]\n",
    "list2D\n"
   ]
  },
  {
   "cell_type": "markdown",
   "id": "04f3780d",
   "metadata": {},
   "source": []
  },
  {
   "cell_type": "code",
   "execution_count": null,
   "id": "17f586d4",
   "metadata": {},
   "outputs": [],
   "source": []
  }
 ],
 "metadata": {
  "kernelspec": {
   "display_name": "Python 3 (ipykernel)",
   "language": "python",
   "name": "python3"
  },
  "language_info": {
   "codemirror_mode": {
    "name": "ipython",
    "version": 3
   },
   "file_extension": ".py",
   "mimetype": "text/x-python",
   "name": "python",
   "nbconvert_exporter": "python",
   "pygments_lexer": "ipython3",
   "version": "3.9.7"
  }
 },
 "nbformat": 4,
 "nbformat_minor": 5
}
