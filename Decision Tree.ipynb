{
 "cells": [
  {
   "cell_type": "code",
   "execution_count": 1,
   "id": "b73e1fd1",
   "metadata": {},
   "outputs": [],
   "source": [
    "from sklearn.model_selection import train_test_split\n",
    "from sklearn.tree import DecisionTreeClassifier\n",
    "from sklearn import datasets"
   ]
  },
  {
   "cell_type": "code",
   "execution_count": 2,
   "id": "feb21146",
   "metadata": {},
   "outputs": [],
   "source": [
    "iris = datasets.load_iris()"
   ]
  },
  {
   "cell_type": "code",
   "execution_count": 3,
   "id": "67729a92",
   "metadata": {},
   "outputs": [],
   "source": [
    "x_train,x_test,y_train,y_test = train_test_split(iris.data,iris.target)"
   ]
  },
  {
   "cell_type": "code",
   "execution_count": 4,
   "id": "94e25369",
   "metadata": {},
   "outputs": [
    {
     "data": {
      "text/plain": [
       "((112, 4), (38, 4), (112,), (38,))"
      ]
     },
     "execution_count": 4,
     "metadata": {},
     "output_type": "execute_result"
    }
   ],
   "source": [
    "x_train.shape,x_test.shape,y_train.shape,y_test.shape"
   ]
  },
  {
   "cell_type": "code",
   "execution_count": 5,
   "id": "9bd13041",
   "metadata": {},
   "outputs": [],
   "source": [
    "clf = DecisionTreeClassifier()"
   ]
  },
  {
   "cell_type": "code",
   "execution_count": 6,
   "id": "8cb5e72a",
   "metadata": {},
   "outputs": [
    {
     "data": {
      "text/plain": [
       "DecisionTreeClassifier()"
      ]
     },
     "execution_count": 6,
     "metadata": {},
     "output_type": "execute_result"
    }
   ],
   "source": [
    "clf.fit(x_train,y_train)"
   ]
  },
  {
   "cell_type": "code",
   "execution_count": 7,
   "id": "1fdc13e6",
   "metadata": {},
   "outputs": [],
   "source": [
    "y_train_pred = clf.predict(x_train)"
   ]
  },
  {
   "cell_type": "code",
   "execution_count": 8,
   "id": "92d9398e",
   "metadata": {},
   "outputs": [],
   "source": [
    "y_test_pred = clf.predict(x_test)"
   ]
  },
  {
   "cell_type": "code",
   "execution_count": 9,
   "id": "49bcecc2",
   "metadata": {},
   "outputs": [],
   "source": [
    "from sklearn.metrics import confusion_matrix"
   ]
  },
  {
   "cell_type": "code",
   "execution_count": 10,
   "id": "b1f87d54",
   "metadata": {},
   "outputs": [
    {
     "data": {
      "text/plain": [
       "array([[38,  0,  0],\n",
       "       [ 0, 34,  0],\n",
       "       [ 0,  0, 40]], dtype=int64)"
      ]
     },
     "execution_count": 10,
     "metadata": {},
     "output_type": "execute_result"
    }
   ],
   "source": [
    "confusion_matrix(y_train,y_train_pred)"
   ]
  },
  {
   "cell_type": "code",
   "execution_count": 11,
   "id": "5baa7cc9",
   "metadata": {},
   "outputs": [
    {
     "data": {
      "text/plain": [
       "array([[12,  0,  0],\n",
       "       [ 0, 15,  1],\n",
       "       [ 0,  1,  9]], dtype=int64)"
      ]
     },
     "execution_count": 11,
     "metadata": {},
     "output_type": "execute_result"
    }
   ],
   "source": [
    "confusion_matrix(y_test,y_test_pred)"
   ]
  },
  {
   "cell_type": "markdown",
   "id": "0a27b437",
   "metadata": {},
   "source": [
    "## Exporting data to Pdf \n",
    "### (iris.pdf)"
   ]
  },
  {
   "cell_type": "code",
   "execution_count": 12,
   "id": "61dae2ac",
   "metadata": {},
   "outputs": [],
   "source": [
    "from sklearn.tree import export_graphviz\n",
    "import pydotplus"
   ]
  },
  {
   "cell_type": "code",
   "execution_count": 13,
   "id": "e810af02",
   "metadata": {},
   "outputs": [
    {
     "data": {
      "text/plain": [
       "True"
      ]
     },
     "execution_count": 13,
     "metadata": {},
     "output_type": "execute_result"
    }
   ],
   "source": [
    "dot_data = export_graphviz(clf, out_file = None,feature_names = iris.feature_names,\n",
    "                           class_names = iris.target_names)\n",
    "graph = pydotplus.graph_from_dot_data(dot_data)\n",
    "graph.write_pdf(\"iris.pdf\")"
   ]
  },
  {
   "cell_type": "code",
   "execution_count": 16,
   "id": "f94bc1cf",
   "metadata": {},
   "outputs": [
    {
     "data": {
      "text/plain": [
       "['digraph Tree {',\n",
       " 'node [shape=box] ;',\n",
       " '0 [label=\"petal length (cm) <= 2.5\\\\ngini = 0.665\\\\nsamples = 112\\\\nvalue = [38, 34, 40]\\\\nclass = virginica\"] ;',\n",
       " '1 [label=\"gini = 0.0\\\\nsamples = 38\\\\nvalue = [38, 0, 0]\\\\nclass = setosa\"] ;',\n",
       " '0 -> 1 [labeldistance=2.5, labelangle=45, headlabel=\"True\"] ;',\n",
       " '2 [label=\"petal width (cm) <= 1.75\\\\ngini = 0.497\\\\nsamples = 74\\\\nvalue = [0, 34, 40]\\\\nclass = virginica\"] ;',\n",
       " '0 -> 2 [labeldistance=2.5, labelangle=-45, headlabel=\"False\"] ;',\n",
       " '3 [label=\"petal length (cm) <= 5.35\\\\ngini = 0.193\\\\nsamples = 37\\\\nvalue = [0, 33, 4]\\\\nclass = versicolor\"] ;',\n",
       " '2 -> 3 ;',\n",
       " '4 [label=\"sepal width (cm) <= 2.25\\\\ngini = 0.108\\\\nsamples = 35\\\\nvalue = [0, 33, 2]\\\\nclass = versicolor\"] ;',\n",
       " '3 -> 4 ;',\n",
       " '5 [label=\"petal width (cm) <= 1.25\\\\ngini = 0.5\\\\nsamples = 2\\\\nvalue = [0, 1, 1]\\\\nclass = versicolor\"] ;',\n",
       " '4 -> 5 ;',\n",
       " '6 [label=\"gini = 0.0\\\\nsamples = 1\\\\nvalue = [0, 1, 0]\\\\nclass = versicolor\"] ;',\n",
       " '5 -> 6 ;',\n",
       " '7 [label=\"gini = 0.0\\\\nsamples = 1\\\\nvalue = [0, 0, 1]\\\\nclass = virginica\"] ;',\n",
       " '5 -> 7 ;',\n",
       " '8 [label=\"sepal length (cm) <= 4.95\\\\ngini = 0.059\\\\nsamples = 33\\\\nvalue = [0, 32, 1]\\\\nclass = versicolor\"] ;',\n",
       " '4 -> 8 ;',\n",
       " '9 [label=\"petal width (cm) <= 1.35\\\\ngini = 0.5\\\\nsamples = 2\\\\nvalue = [0, 1, 1]\\\\nclass = versicolor\"] ;',\n",
       " '8 -> 9 ;',\n",
       " '10 [label=\"gini = 0.0\\\\nsamples = 1\\\\nvalue = [0, 1, 0]\\\\nclass = versicolor\"] ;',\n",
       " '9 -> 10 ;',\n",
       " '11 [label=\"gini = 0.0\\\\nsamples = 1\\\\nvalue = [0, 0, 1]\\\\nclass = virginica\"] ;',\n",
       " '9 -> 11 ;',\n",
       " '12 [label=\"gini = 0.0\\\\nsamples = 31\\\\nvalue = [0, 31, 0]\\\\nclass = versicolor\"] ;',\n",
       " '8 -> 12 ;',\n",
       " '13 [label=\"gini = 0.0\\\\nsamples = 2\\\\nvalue = [0, 0, 2]\\\\nclass = virginica\"] ;',\n",
       " '3 -> 13 ;',\n",
       " '14 [label=\"petal length (cm) <= 4.85\\\\ngini = 0.053\\\\nsamples = 37\\\\nvalue = [0, 1, 36]\\\\nclass = virginica\"] ;',\n",
       " '2 -> 14 ;',\n",
       " '15 [label=\"sepal width (cm) <= 3.1\\\\ngini = 0.444\\\\nsamples = 3\\\\nvalue = [0, 1, 2]\\\\nclass = virginica\"] ;',\n",
       " '14 -> 15 ;',\n",
       " '16 [label=\"gini = 0.0\\\\nsamples = 2\\\\nvalue = [0, 0, 2]\\\\nclass = virginica\"] ;',\n",
       " '15 -> 16 ;',\n",
       " '17 [label=\"gini = 0.0\\\\nsamples = 1\\\\nvalue = [0, 1, 0]\\\\nclass = versicolor\"] ;',\n",
       " '15 -> 17 ;',\n",
       " '18 [label=\"gini = 0.0\\\\nsamples = 34\\\\nvalue = [0, 0, 34]\\\\nclass = virginica\"] ;',\n",
       " '14 -> 18 ;',\n",
       " '}']"
      ]
     },
     "execution_count": 16,
     "metadata": {},
     "output_type": "execute_result"
    }
   ],
   "source": [
    "dot_data.split(\"\\n\")"
   ]
  },
  {
   "cell_type": "code",
   "execution_count": 20,
   "id": "644f8035",
   "metadata": {},
   "outputs": [
    {
     "data": {
      "text/plain": [
       "<pydotplus.graphviz.Dot at 0x23f3c70b550>"
      ]
     },
     "execution_count": 20,
     "metadata": {},
     "output_type": "execute_result"
    }
   ],
   "source": []
  },
  {
   "cell_type": "code",
   "execution_count": null,
   "id": "ac7b483e",
   "metadata": {},
   "outputs": [],
   "source": []
  }
 ],
 "metadata": {
  "kernelspec": {
   "display_name": "Python 3 (ipykernel)",
   "language": "python",
   "name": "python3"
  },
  "language_info": {
   "codemirror_mode": {
    "name": "ipython",
    "version": 3
   },
   "file_extension": ".py",
   "mimetype": "text/x-python",
   "name": "python",
   "nbconvert_exporter": "python",
   "pygments_lexer": "ipython3",
   "version": "3.9.7"
  }
 },
 "nbformat": 4,
 "nbformat_minor": 5
}
