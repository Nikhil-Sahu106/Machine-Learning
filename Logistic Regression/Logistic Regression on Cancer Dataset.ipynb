{
 "cells": [
  {
   "cell_type": "code",
   "execution_count": 72,
   "id": "155750cc",
   "metadata": {},
   "outputs": [],
   "source": [
    "from sklearn import datasets,preprocessing\n",
    "from sklearn import model_selection\n",
    "from sklearn.linear_model import LogisticRegression\n",
    "import matplotlib.pyplot as plt\n",
    "import pandas as pd \n",
    "import numpy as np"
   ]
  },
  {
   "cell_type": "code",
   "execution_count": 73,
   "id": "d8970687",
   "metadata": {},
   "outputs": [
    {
     "data": {
      "text/plain": [
       "['.. _breast_cancer_dataset:',\n",
       " '',\n",
       " 'Breast cancer wisconsin (diagnostic) dataset',\n",
       " '--------------------------------------------',\n",
       " '',\n",
       " '**Data Set Characteristics:**',\n",
       " '',\n",
       " '    :Number of Instances: 569',\n",
       " '',\n",
       " '    :Number of Attributes: 30 numeric, predictive attributes and the class',\n",
       " '',\n",
       " '    :Attribute Information:',\n",
       " '        - radius (mean of distances from center to points on the perimeter)',\n",
       " '        - texture (standard deviation of gray-scale values)',\n",
       " '        - perimeter',\n",
       " '        - area',\n",
       " '        - smoothness (local variation in radius lengths)',\n",
       " '        - compactness (perimeter^2 / area - 1.0)',\n",
       " '        - concavity (severity of concave portions of the contour)',\n",
       " '        - concave points (number of concave portions of the contour)',\n",
       " '        - symmetry',\n",
       " '        - fractal dimension (\"coastline approximation\" - 1)',\n",
       " '',\n",
       " '        The mean, standard error, and \"worst\" or largest (mean of the three',\n",
       " '        worst/largest values) of these features were computed for each image,',\n",
       " '        resulting in 30 features.  For instance, field 0 is Mean Radius, field',\n",
       " '        10 is Radius SE, field 20 is Worst Radius.',\n",
       " '',\n",
       " '        - class:',\n",
       " '                - WDBC-Malignant',\n",
       " '                - WDBC-Benign',\n",
       " '',\n",
       " '    :Summary Statistics:',\n",
       " '',\n",
       " '    ===================================== ====== ======',\n",
       " '                                           Min    Max',\n",
       " '    ===================================== ====== ======',\n",
       " '    radius (mean):                        6.981  28.11',\n",
       " '    texture (mean):                       9.71   39.28',\n",
       " '    perimeter (mean):                     43.79  188.5',\n",
       " '    area (mean):                          143.5  2501.0',\n",
       " '    smoothness (mean):                    0.053  0.163',\n",
       " '    compactness (mean):                   0.019  0.345',\n",
       " '    concavity (mean):                     0.0    0.427',\n",
       " '    concave points (mean):                0.0    0.201',\n",
       " '    symmetry (mean):                      0.106  0.304',\n",
       " '    fractal dimension (mean):             0.05   0.097',\n",
       " '    radius (standard error):              0.112  2.873',\n",
       " '    texture (standard error):             0.36   4.885',\n",
       " '    perimeter (standard error):           0.757  21.98',\n",
       " '    area (standard error):                6.802  542.2',\n",
       " '    smoothness (standard error):          0.002  0.031',\n",
       " '    compactness (standard error):         0.002  0.135',\n",
       " '    concavity (standard error):           0.0    0.396',\n",
       " '    concave points (standard error):      0.0    0.053',\n",
       " '    symmetry (standard error):            0.008  0.079',\n",
       " '    fractal dimension (standard error):   0.001  0.03',\n",
       " '    radius (worst):                       7.93   36.04',\n",
       " '    texture (worst):                      12.02  49.54',\n",
       " '    perimeter (worst):                    50.41  251.2',\n",
       " '    area (worst):                         185.2  4254.0',\n",
       " '    smoothness (worst):                   0.071  0.223',\n",
       " '    compactness (worst):                  0.027  1.058',\n",
       " '    concavity (worst):                    0.0    1.252',\n",
       " '    concave points (worst):               0.0    0.291',\n",
       " '    symmetry (worst):                     0.156  0.664',\n",
       " '    fractal dimension (worst):            0.055  0.208',\n",
       " '    ===================================== ====== ======',\n",
       " '',\n",
       " '    :Missing Attribute Values: None',\n",
       " '',\n",
       " '    :Class Distribution: 212 - Malignant, 357 - Benign',\n",
       " '',\n",
       " '    :Creator:  Dr. William H. Wolberg, W. Nick Street, Olvi L. Mangasarian',\n",
       " '',\n",
       " '    :Donor: Nick Street',\n",
       " '',\n",
       " '    :Date: November, 1995',\n",
       " '',\n",
       " 'This is a copy of UCI ML Breast Cancer Wisconsin (Diagnostic) datasets.',\n",
       " 'https://goo.gl/U2Uwz2',\n",
       " '',\n",
       " 'Features are computed from a digitized image of a fine needle',\n",
       " 'aspirate (FNA) of a breast mass.  They describe',\n",
       " 'characteristics of the cell nuclei present in the image.',\n",
       " '',\n",
       " 'Separating plane described above was obtained using',\n",
       " 'Multisurface Method-Tree (MSM-T) [K. P. Bennett, \"Decision Tree',\n",
       " 'Construction Via Linear Programming.\" Proceedings of the 4th',\n",
       " 'Midwest Artificial Intelligence and Cognitive Science Society,',\n",
       " 'pp. 97-101, 1992], a classification method which uses linear',\n",
       " 'programming to construct a decision tree.  Relevant features',\n",
       " 'were selected using an exhaustive search in the space of 1-4',\n",
       " 'features and 1-3 separating planes.',\n",
       " '',\n",
       " 'The actual linear program used to obtain the separating plane',\n",
       " 'in the 3-dimensional space is that described in:',\n",
       " '[K. P. Bennett and O. L. Mangasarian: \"Robust Linear',\n",
       " 'Programming Discrimination of Two Linearly Inseparable Sets\",',\n",
       " 'Optimization Methods and Software 1, 1992, 23-34].',\n",
       " '',\n",
       " 'This database is also available through the UW CS ftp server:',\n",
       " '',\n",
       " 'ftp ftp.cs.wisc.edu',\n",
       " 'cd math-prog/cpo-dataset/machine-learn/WDBC/',\n",
       " '',\n",
       " '.. topic:: References',\n",
       " '',\n",
       " '   - W.N. Street, W.H. Wolberg and O.L. Mangasarian. Nuclear feature extraction ',\n",
       " '     for breast tumor diagnosis. IS&T/SPIE 1993 International Symposium on ',\n",
       " '     Electronic Imaging: Science and Technology, volume 1905, pages 861-870,',\n",
       " '     San Jose, CA, 1993.',\n",
       " '   - O.L. Mangasarian, W.N. Street and W.H. Wolberg. Breast cancer diagnosis and ',\n",
       " '     prognosis via linear programming. Operations Research, 43(4), pages 570-577, ',\n",
       " '     July-August 1995.',\n",
       " '   - W.H. Wolberg, W.N. Street, and O.L. Mangasarian. Machine learning techniques',\n",
       " '     to diagnose breast cancer from fine-needle aspirates. Cancer Letters 77 (1994) ',\n",
       " '     163-171.']"
      ]
     },
     "execution_count": 73,
     "metadata": {},
     "output_type": "execute_result"
    }
   ],
   "source": [
    "cancer_dataset = datasets.load_breast_cancer()\n",
    "cancer_dataset.DESCR.split(\"\\n\")"
   ]
  },
  {
   "cell_type": "code",
   "execution_count": 74,
   "id": "ba6b8137",
   "metadata": {},
   "outputs": [],
   "source": [
    "x = cancer_dataset.data\n",
    "y = cancer_dataset.target"
   ]
  },
  {
   "cell_type": "code",
   "execution_count": 75,
   "id": "47d3cccb",
   "metadata": {},
   "outputs": [
    {
     "data": {
      "text/html": [
       "<div>\n",
       "<style scoped>\n",
       "    .dataframe tbody tr th:only-of-type {\n",
       "        vertical-align: middle;\n",
       "    }\n",
       "\n",
       "    .dataframe tbody tr th {\n",
       "        vertical-align: top;\n",
       "    }\n",
       "\n",
       "    .dataframe thead th {\n",
       "        text-align: right;\n",
       "    }\n",
       "</style>\n",
       "<table border=\"1\" class=\"dataframe\">\n",
       "  <thead>\n",
       "    <tr style=\"text-align: right;\">\n",
       "      <th></th>\n",
       "      <th>0</th>\n",
       "      <th>1</th>\n",
       "      <th>2</th>\n",
       "      <th>3</th>\n",
       "      <th>4</th>\n",
       "      <th>5</th>\n",
       "      <th>6</th>\n",
       "      <th>7</th>\n",
       "      <th>8</th>\n",
       "      <th>9</th>\n",
       "      <th>...</th>\n",
       "      <th>20</th>\n",
       "      <th>21</th>\n",
       "      <th>22</th>\n",
       "      <th>23</th>\n",
       "      <th>24</th>\n",
       "      <th>25</th>\n",
       "      <th>26</th>\n",
       "      <th>27</th>\n",
       "      <th>28</th>\n",
       "      <th>29</th>\n",
       "    </tr>\n",
       "  </thead>\n",
       "  <tbody>\n",
       "    <tr>\n",
       "      <th>count</th>\n",
       "      <td>569.000000</td>\n",
       "      <td>569.000000</td>\n",
       "      <td>569.000000</td>\n",
       "      <td>569.000000</td>\n",
       "      <td>569.000000</td>\n",
       "      <td>569.000000</td>\n",
       "      <td>569.000000</td>\n",
       "      <td>569.000000</td>\n",
       "      <td>569.000000</td>\n",
       "      <td>569.000000</td>\n",
       "      <td>...</td>\n",
       "      <td>569.000000</td>\n",
       "      <td>569.000000</td>\n",
       "      <td>569.000000</td>\n",
       "      <td>569.000000</td>\n",
       "      <td>569.000000</td>\n",
       "      <td>569.000000</td>\n",
       "      <td>569.000000</td>\n",
       "      <td>569.000000</td>\n",
       "      <td>569.000000</td>\n",
       "      <td>569.000000</td>\n",
       "    </tr>\n",
       "    <tr>\n",
       "      <th>mean</th>\n",
       "      <td>14.127292</td>\n",
       "      <td>19.289649</td>\n",
       "      <td>91.969033</td>\n",
       "      <td>654.889104</td>\n",
       "      <td>0.096360</td>\n",
       "      <td>0.104341</td>\n",
       "      <td>0.088799</td>\n",
       "      <td>0.048919</td>\n",
       "      <td>0.181162</td>\n",
       "      <td>0.062798</td>\n",
       "      <td>...</td>\n",
       "      <td>16.269190</td>\n",
       "      <td>25.677223</td>\n",
       "      <td>107.261213</td>\n",
       "      <td>880.583128</td>\n",
       "      <td>0.132369</td>\n",
       "      <td>0.254265</td>\n",
       "      <td>0.272188</td>\n",
       "      <td>0.114606</td>\n",
       "      <td>0.290076</td>\n",
       "      <td>0.083946</td>\n",
       "    </tr>\n",
       "    <tr>\n",
       "      <th>std</th>\n",
       "      <td>3.524049</td>\n",
       "      <td>4.301036</td>\n",
       "      <td>24.298981</td>\n",
       "      <td>351.914129</td>\n",
       "      <td>0.014064</td>\n",
       "      <td>0.052813</td>\n",
       "      <td>0.079720</td>\n",
       "      <td>0.038803</td>\n",
       "      <td>0.027414</td>\n",
       "      <td>0.007060</td>\n",
       "      <td>...</td>\n",
       "      <td>4.833242</td>\n",
       "      <td>6.146258</td>\n",
       "      <td>33.602542</td>\n",
       "      <td>569.356993</td>\n",
       "      <td>0.022832</td>\n",
       "      <td>0.157336</td>\n",
       "      <td>0.208624</td>\n",
       "      <td>0.065732</td>\n",
       "      <td>0.061867</td>\n",
       "      <td>0.018061</td>\n",
       "    </tr>\n",
       "    <tr>\n",
       "      <th>min</th>\n",
       "      <td>6.981000</td>\n",
       "      <td>9.710000</td>\n",
       "      <td>43.790000</td>\n",
       "      <td>143.500000</td>\n",
       "      <td>0.052630</td>\n",
       "      <td>0.019380</td>\n",
       "      <td>0.000000</td>\n",
       "      <td>0.000000</td>\n",
       "      <td>0.106000</td>\n",
       "      <td>0.049960</td>\n",
       "      <td>...</td>\n",
       "      <td>7.930000</td>\n",
       "      <td>12.020000</td>\n",
       "      <td>50.410000</td>\n",
       "      <td>185.200000</td>\n",
       "      <td>0.071170</td>\n",
       "      <td>0.027290</td>\n",
       "      <td>0.000000</td>\n",
       "      <td>0.000000</td>\n",
       "      <td>0.156500</td>\n",
       "      <td>0.055040</td>\n",
       "    </tr>\n",
       "    <tr>\n",
       "      <th>25%</th>\n",
       "      <td>11.700000</td>\n",
       "      <td>16.170000</td>\n",
       "      <td>75.170000</td>\n",
       "      <td>420.300000</td>\n",
       "      <td>0.086370</td>\n",
       "      <td>0.064920</td>\n",
       "      <td>0.029560</td>\n",
       "      <td>0.020310</td>\n",
       "      <td>0.161900</td>\n",
       "      <td>0.057700</td>\n",
       "      <td>...</td>\n",
       "      <td>13.010000</td>\n",
       "      <td>21.080000</td>\n",
       "      <td>84.110000</td>\n",
       "      <td>515.300000</td>\n",
       "      <td>0.116600</td>\n",
       "      <td>0.147200</td>\n",
       "      <td>0.114500</td>\n",
       "      <td>0.064930</td>\n",
       "      <td>0.250400</td>\n",
       "      <td>0.071460</td>\n",
       "    </tr>\n",
       "    <tr>\n",
       "      <th>50%</th>\n",
       "      <td>13.370000</td>\n",
       "      <td>18.840000</td>\n",
       "      <td>86.240000</td>\n",
       "      <td>551.100000</td>\n",
       "      <td>0.095870</td>\n",
       "      <td>0.092630</td>\n",
       "      <td>0.061540</td>\n",
       "      <td>0.033500</td>\n",
       "      <td>0.179200</td>\n",
       "      <td>0.061540</td>\n",
       "      <td>...</td>\n",
       "      <td>14.970000</td>\n",
       "      <td>25.410000</td>\n",
       "      <td>97.660000</td>\n",
       "      <td>686.500000</td>\n",
       "      <td>0.131300</td>\n",
       "      <td>0.211900</td>\n",
       "      <td>0.226700</td>\n",
       "      <td>0.099930</td>\n",
       "      <td>0.282200</td>\n",
       "      <td>0.080040</td>\n",
       "    </tr>\n",
       "    <tr>\n",
       "      <th>75%</th>\n",
       "      <td>15.780000</td>\n",
       "      <td>21.800000</td>\n",
       "      <td>104.100000</td>\n",
       "      <td>782.700000</td>\n",
       "      <td>0.105300</td>\n",
       "      <td>0.130400</td>\n",
       "      <td>0.130700</td>\n",
       "      <td>0.074000</td>\n",
       "      <td>0.195700</td>\n",
       "      <td>0.066120</td>\n",
       "      <td>...</td>\n",
       "      <td>18.790000</td>\n",
       "      <td>29.720000</td>\n",
       "      <td>125.400000</td>\n",
       "      <td>1084.000000</td>\n",
       "      <td>0.146000</td>\n",
       "      <td>0.339100</td>\n",
       "      <td>0.382900</td>\n",
       "      <td>0.161400</td>\n",
       "      <td>0.317900</td>\n",
       "      <td>0.092080</td>\n",
       "    </tr>\n",
       "    <tr>\n",
       "      <th>max</th>\n",
       "      <td>28.110000</td>\n",
       "      <td>39.280000</td>\n",
       "      <td>188.500000</td>\n",
       "      <td>2501.000000</td>\n",
       "      <td>0.163400</td>\n",
       "      <td>0.345400</td>\n",
       "      <td>0.426800</td>\n",
       "      <td>0.201200</td>\n",
       "      <td>0.304000</td>\n",
       "      <td>0.097440</td>\n",
       "      <td>...</td>\n",
       "      <td>36.040000</td>\n",
       "      <td>49.540000</td>\n",
       "      <td>251.200000</td>\n",
       "      <td>4254.000000</td>\n",
       "      <td>0.222600</td>\n",
       "      <td>1.058000</td>\n",
       "      <td>1.252000</td>\n",
       "      <td>0.291000</td>\n",
       "      <td>0.663800</td>\n",
       "      <td>0.207500</td>\n",
       "    </tr>\n",
       "  </tbody>\n",
       "</table>\n",
       "<p>8 rows × 30 columns</p>\n",
       "</div>"
      ],
      "text/plain": [
       "               0           1           2            3           4   \\\n",
       "count  569.000000  569.000000  569.000000   569.000000  569.000000   \n",
       "mean    14.127292   19.289649   91.969033   654.889104    0.096360   \n",
       "std      3.524049    4.301036   24.298981   351.914129    0.014064   \n",
       "min      6.981000    9.710000   43.790000   143.500000    0.052630   \n",
       "25%     11.700000   16.170000   75.170000   420.300000    0.086370   \n",
       "50%     13.370000   18.840000   86.240000   551.100000    0.095870   \n",
       "75%     15.780000   21.800000  104.100000   782.700000    0.105300   \n",
       "max     28.110000   39.280000  188.500000  2501.000000    0.163400   \n",
       "\n",
       "               5           6           7           8           9   ...  \\\n",
       "count  569.000000  569.000000  569.000000  569.000000  569.000000  ...   \n",
       "mean     0.104341    0.088799    0.048919    0.181162    0.062798  ...   \n",
       "std      0.052813    0.079720    0.038803    0.027414    0.007060  ...   \n",
       "min      0.019380    0.000000    0.000000    0.106000    0.049960  ...   \n",
       "25%      0.064920    0.029560    0.020310    0.161900    0.057700  ...   \n",
       "50%      0.092630    0.061540    0.033500    0.179200    0.061540  ...   \n",
       "75%      0.130400    0.130700    0.074000    0.195700    0.066120  ...   \n",
       "max      0.345400    0.426800    0.201200    0.304000    0.097440  ...   \n",
       "\n",
       "               20          21          22           23          24  \\\n",
       "count  569.000000  569.000000  569.000000   569.000000  569.000000   \n",
       "mean    16.269190   25.677223  107.261213   880.583128    0.132369   \n",
       "std      4.833242    6.146258   33.602542   569.356993    0.022832   \n",
       "min      7.930000   12.020000   50.410000   185.200000    0.071170   \n",
       "25%     13.010000   21.080000   84.110000   515.300000    0.116600   \n",
       "50%     14.970000   25.410000   97.660000   686.500000    0.131300   \n",
       "75%     18.790000   29.720000  125.400000  1084.000000    0.146000   \n",
       "max     36.040000   49.540000  251.200000  4254.000000    0.222600   \n",
       "\n",
       "               25          26          27          28          29  \n",
       "count  569.000000  569.000000  569.000000  569.000000  569.000000  \n",
       "mean     0.254265    0.272188    0.114606    0.290076    0.083946  \n",
       "std      0.157336    0.208624    0.065732    0.061867    0.018061  \n",
       "min      0.027290    0.000000    0.000000    0.156500    0.055040  \n",
       "25%      0.147200    0.114500    0.064930    0.250400    0.071460  \n",
       "50%      0.211900    0.226700    0.099930    0.282200    0.080040  \n",
       "75%      0.339100    0.382900    0.161400    0.317900    0.092080  \n",
       "max      1.058000    1.252000    0.291000    0.663800    0.207500  \n",
       "\n",
       "[8 rows x 30 columns]"
      ]
     },
     "execution_count": 75,
     "metadata": {},
     "output_type": "execute_result"
    }
   ],
   "source": [
    "df = pd.DataFrame(x)\n",
    "df.describe()"
   ]
  },
  {
   "cell_type": "code",
   "execution_count": 107,
   "id": "e5ed37c4",
   "metadata": {},
   "outputs": [],
   "source": [
    "x_train,x_test,y_train,y_test = model_selection.train_test_split(x,y)"
   ]
  },
  {
   "cell_type": "code",
   "execution_count": 77,
   "id": "fc8db96d",
   "metadata": {},
   "outputs": [],
   "source": [
    "scaler = preprocessing.StandardScaler()"
   ]
  },
  {
   "cell_type": "code",
   "execution_count": 78,
   "id": "c57f7bb9",
   "metadata": {},
   "outputs": [
    {
     "data": {
      "text/plain": [
       "StandardScaler()"
      ]
     },
     "execution_count": 78,
     "metadata": {},
     "output_type": "execute_result"
    }
   ],
   "source": [
    "scaler.fit(x_train)"
   ]
  },
  {
   "cell_type": "code",
   "execution_count": 79,
   "id": "d25f08cd",
   "metadata": {},
   "outputs": [],
   "source": [
    "x_train_scaled = scaler.transform(x_train)"
   ]
  },
  {
   "cell_type": "code",
   "execution_count": 80,
   "id": "d90822e0",
   "metadata": {},
   "outputs": [
    {
     "data": {
      "text/plain": [
       "(426, 30)"
      ]
     },
     "execution_count": 80,
     "metadata": {},
     "output_type": "execute_result"
    }
   ],
   "source": [
    "x_train_scaled.shape"
   ]
  },
  {
   "cell_type": "code",
   "execution_count": 81,
   "id": "175dd8f0",
   "metadata": {},
   "outputs": [],
   "source": [
    "x_train_scaled = np.append(x_train_scaled,np.ones(x_train_scaled.shape[0]).reshape(-1,1),axis =1)"
   ]
  },
  {
   "cell_type": "code",
   "execution_count": 82,
   "id": "07a41147",
   "metadata": {},
   "outputs": [
    {
     "data": {
      "text/plain": [
       "((426, 31), (31,))"
      ]
     },
     "execution_count": 82,
     "metadata": {},
     "output_type": "execute_result"
    }
   ],
   "source": [
    "x_train_scaled.shape,x_train_scaled[0].shape"
   ]
  },
  {
   "cell_type": "code",
   "execution_count": 83,
   "id": "58a9d136",
   "metadata": {},
   "outputs": [],
   "source": [
    "def sigmoid(agg):\n",
    "    return 1/(1+np.exp(-agg))"
   ]
  },
  {
   "cell_type": "code",
   "execution_count": 84,
   "id": "a746feb3",
   "metadata": {},
   "outputs": [],
   "source": [
    "def cost(x_train,y_train,m):\n",
    "    \n",
    "    cost_ = 0\n",
    "    N =x_train.shape[0]\n",
    "    for i in range(N):\n",
    "        agg = (x_train[i]*m).sum()\n",
    "        h = sigmoid(agg)\n",
    "        cost = -y_train[i]*np.log(h) - (1 - y_train[i])*np.log(1 - h)\n",
    "        cost_ +=cost\n",
    "    return cost_"
   ]
  },
  {
   "cell_type": "code",
   "execution_count": 85,
   "id": "de07d994",
   "metadata": {},
   "outputs": [],
   "source": [
    "def step_gradient(x_train,y_train,lrate,m):\n",
    "    \n",
    "    N= x_train.shape[0]\n",
    "    slope_m = np.zeros(x_train.shape[1])\n",
    "    for i in range(N):\n",
    "        agg = (x_train[i]*m).sum()\n",
    "        h =sigmoid(agg)\n",
    "        slope_m += (-1/N)*(y_train[i]-h)*x_train[i]\n",
    "        \n",
    "    m =m - lrate*slope_m\n",
    "    return m "
   ]
  },
  {
   "cell_type": "code",
   "execution_count": 94,
   "id": "ead8c201",
   "metadata": {},
   "outputs": [],
   "source": [
    "def fit(x_train,y_train,epochs =100,lrate = 0.01):\n",
    "    m =np.zeros(x_train.shape[1])\n",
    "    cost_array =[]\n",
    "    unit = epochs/100\n",
    "    for i in range(epochs):\n",
    "        m = step_gradient(x_train,y_train,lrate,m)\n",
    "        cost_ = cost(x_train ,y_train,m)\n",
    "        cost_array.append(cost_)\n",
    "        \n",
    "        if i%unit == 0:\n",
    "            print(\"Epoch:{}, cost:{}\".format(i,cost_))\n",
    "            \n",
    "    return m,cost_array"
   ]
  },
  {
   "cell_type": "code",
   "execution_count": 97,
   "id": "8754a3ed",
   "metadata": {},
   "outputs": [],
   "source": [
    "def predict(x_test,m):\n",
    "    \n",
    "    y_pred = []\n",
    "    N = x_test.shape[0]\n",
    "    \n",
    "    for i in range(N):\n",
    "        agg = (x_test[i]*m).sum()\n",
    "        h =sigmoid(agg)\n",
    "        \n",
    "        if h >0.5:\n",
    "            y_pred.append(1)\n",
    "        else:\n",
    "            y_pred.append(0)\n",
    "            \n",
    "        return np.array(y_pred)"
   ]
  },
  {
   "cell_type": "code",
   "execution_count": 103,
   "id": "059ef947",
   "metadata": {},
   "outputs": [],
   "source": [
    "def accuracy(x_test,y_pred):\n",
    "    \n",
    "    correct = 0\n",
    "    N =y_test.shape[0]\n",
    "    correct = (y_test==y_pred).sum()\n",
    "    \n",
    "    return (correct/N)*100"
   ]
  },
  {
   "cell_type": "code",
   "execution_count": 113,
   "id": "69e0f373",
   "metadata": {},
   "outputs": [
    {
     "name": "stdout",
     "output_type": "stream",
     "text": [
      "Epoch:0, cost:295.19003179735597\n",
      "Epoch:100, cost:288.0759525118624\n",
      "Epoch:200, cost:283.5917032591229\n",
      "Epoch:300, cost:280.6599406916172\n",
      "Epoch:400, cost:278.6831257932173\n",
      "Epoch:500, cost:277.3079876843749\n",
      "Epoch:600, cost:276.32030229986646\n",
      "Epoch:700, cost:275.58772291720186\n",
      "Epoch:800, cost:275.0270726081395\n",
      "Epoch:900, cost:274.58516642203926\n",
      "Epoch:1000, cost:274.2273779925291\n",
      "Epoch:1100, cost:273.93072857360346\n",
      "Epoch:1200, cost:273.679656503332\n",
      "Epoch:1300, cost:273.46339563765866\n",
      "Epoch:1400, cost:273.27433087344815\n",
      "Epoch:1500, cost:273.1069536043344\n",
      "Epoch:1600, cost:272.9571895057024\n",
      "Epoch:1700, cost:272.8219598791534\n",
      "Epoch:1800, cost:272.69889111769953\n",
      "Epoch:1900, cost:272.5861191855616\n",
      "Epoch:2000, cost:272.4821557894055\n",
      "Epoch:2100, cost:272.3857951283857\n",
      "Epoch:2200, cost:272.2960477112873\n",
      "Epoch:2300, cost:272.21209250066397\n",
      "Epoch:2400, cost:272.1332416651849\n",
      "Epoch:2500, cost:272.05891415175057\n",
      "Epoch:2600, cost:271.98861553400036\n",
      "Epoch:2700, cost:271.92192240515055\n",
      "Epoch:2800, cost:271.85847011769596\n",
      "Epoch:2900, cost:271.79794302891446\n",
      "Epoch:3000, cost:271.74006665190586\n",
      "Epoch:3100, cost:271.68460127674535\n",
      "Epoch:3200, cost:271.6313367408702\n",
      "Epoch:3300, cost:271.5800881085954\n",
      "Epoch:3400, cost:271.5306920774839\n",
      "Epoch:3500, cost:271.4830039713371\n",
      "Epoch:3600, cost:271.43689521058604\n",
      "Epoch:3700, cost:271.3922511740786\n",
      "Epoch:3800, cost:271.34896938384543\n",
      "Epoch:3900, cost:271.30695795795475\n",
      "Epoch:4000, cost:271.2661342870568\n",
      "Epoch:4100, cost:271.22642389845197\n",
      "Epoch:4200, cost:271.18775947804147\n",
      "Epoch:4300, cost:271.15008002572597\n",
      "Epoch:4400, cost:271.1133301240128\n",
      "Epoch:4500, cost:271.07745930297904\n",
      "Epoch:4600, cost:271.04242148751126\n",
      "Epoch:4700, cost:271.0081745149988\n",
      "Epoch:4800, cost:270.9746797135408\n",
      "Epoch:4900, cost:270.941901532243\n",
      "Epoch:5000, cost:270.9098072164907\n",
      "Epoch:5100, cost:270.8783665221279\n",
      "Epoch:5200, cost:270.8475514633878\n",
      "Epoch:5300, cost:270.8173360901444\n",
      "Epoch:5400, cost:270.787696290716\n",
      "Epoch:5500, cost:270.75860961695827\n",
      "Epoch:5600, cost:270.73005512885663\n",
      "Epoch:5700, cost:270.70201325619337\n",
      "Epoch:5800, cost:270.674465675211\n",
      "Epoch:5900, cost:270.6473951984492\n",
      "Epoch:6000, cost:270.6207856761997\n",
      "Epoch:6100, cost:270.5946219081948\n",
      "Epoch:6200, cost:270.5688895643524\n",
      "Epoch:6300, cost:270.5435751135266\n",
      "Epoch:6400, cost:270.51866575936265\n",
      "Epoch:6500, cost:270.494149382452\n",
      "Epoch:6600, cost:270.4700144880945\n",
      "Epoch:6700, cost:270.44625015904904\n",
      "Epoch:6800, cost:270.4228460127337\n",
      "Epoch:6900, cost:270.3997921623994\n",
      "Epoch:7000, cost:270.37707918185146\n",
      "Epoch:7100, cost:270.3546980733592\n",
      "Epoch:7200, cost:270.3326402384087\n",
      "Epoch:7300, cost:270.31089745101735\n",
      "Epoch:7400, cost:270.28946183335034\n",
      "Epoch:7500, cost:270.2683258334085\n",
      "Epoch:7600, cost:270.24748220457496\n",
      "Epoch:7700, cost:270.2269239868566\n",
      "Epoch:7800, cost:270.20664448963447\n",
      "Epoch:7900, cost:270.1866372758003\n",
      "Epoch:8000, cost:270.1668961471317\n",
      "Epoch:8100, cost:270.1474151308009\n",
      "Epoch:8200, cost:270.1281884669092\n",
      "Epoch:8300, cost:270.10921059695204\n",
      "Epoch:8400, cost:270.0904761531336\n",
      "Epoch:8500, cost:270.0719799484562\n",
      "Epoch:8600, cost:270.0537169675128\n",
      "Epoch:8700, cost:270.03568235792295\n",
      "Epoch:8800, cost:270.01787142236356\n",
      "Epoch:8900, cost:270.00027961113096\n",
      "Epoch:9000, cost:269.9829025152034\n",
      "Epoch:9100, cost:269.9657358597553\n",
      "Epoch:9200, cost:269.9487754980865\n",
      "Epoch:9300, cost:269.9320174059384\n",
      "Epoch:9400, cost:269.9154576761599\n",
      "Epoch:9500, cost:269.8990925136988\n",
      "Epoch:9600, cost:269.88291823089685\n",
      "Epoch:9700, cost:269.8669312430587\n",
      "Epoch:9800, cost:269.8511280642774\n",
      "Epoch:9900, cost:269.83550530350095\n"
     ]
    }
   ],
   "source": [
    "m,cost_array  = fit(x_train_scaled,y_train,10000,0.01)\n"
   ]
  },
  {
   "cell_type": "code",
   "execution_count": 99,
   "id": "95509184",
   "metadata": {},
   "outputs": [
    {
     "name": "stdout",
     "output_type": "stream",
     "text": [
      "[-0.35688027 -0.36215725 -0.3575437  -0.35591145 -0.12387432 -0.13933082\n",
      " -0.31112366 -0.36621024 -0.08320946  0.15084959 -0.34723923 -0.00613323\n",
      " -0.30109031 -0.32774931 -0.00823994  0.06069954  0.05035866 -0.0814065\n",
      "  0.03010651  0.16402854 -0.43795988 -0.42678314 -0.4248633  -0.42019334\n",
      " -0.29760017 -0.20499222 -0.31636346 -0.40175439 -0.27250803 -0.09027009\n",
      "  0.29744195]\n"
     ]
    }
   ],
   "source": [
    "print(m)"
   ]
  },
  {
   "cell_type": "code",
   "execution_count": 104,
   "id": "a984607b",
   "metadata": {},
   "outputs": [
    {
     "data": {
      "image/png": "[encoded data removed]",
      "text/plain": [
       "<Figure size 432x288 with 1 Axes>"
      ]
     },
     "metadata": {
      "needs_background": "light"
     },
     "output_type": "display_data"
    }
   ],
   "source": [
    "plt.plot(cost_array)\n",
    "plt.grid()\n",
    "plt.show()"
   ]
  },
  {
   "cell_type": "code",
   "execution_count": 105,
   "id": "b0f49813",
   "metadata": {},
   "outputs": [],
   "source": [
    "y_pred_train = predict(x_train_scaled,m)"
   ]
  },
  {
   "cell_type": "code",
   "execution_count": 108,
   "id": "4ab7e29b",
   "metadata": {},
   "outputs": [
    {
     "data": {
      "text/plain": [
       "62.93706293706294"
      ]
     },
     "execution_count": 108,
     "metadata": {},
     "output_type": "execute_result"
    }
   ],
   "source": [
    "accuracy(y_train,y_pred_train)"
   ]
  },
  {
   "cell_type": "code",
   "execution_count": 109,
   "id": "7efdb29e",
   "metadata": {},
   "outputs": [],
   "source": [
    "x_test_scaled = scaler.transform(x_test)"
   ]
  },
  {
   "cell_type": "code",
   "execution_count": 110,
   "id": "44e21e85",
   "metadata": {},
   "outputs": [],
   "source": [
    "x_test_scaled = np.append(x_test_scaled,np.ones(x_test_scaled.shape[0]).reshape(-1,1),axis = 1)"
   ]
  },
  {
   "cell_type": "code",
   "execution_count": 111,
   "id": "e8707ab1",
   "metadata": {},
   "outputs": [],
   "source": [
    "y_pred_test = predict(x_test_scaled,m) "
   ]
  },
  {
   "cell_type": "code",
   "execution_count": 112,
   "id": "5d236639",
   "metadata": {},
   "outputs": [
    {
     "data": {
      "text/plain": [
       "37.06293706293706"
      ]
     },
     "execution_count": 112,
     "metadata": {},
     "output_type": "execute_result"
    }
   ],
   "source": [
    "accuracy(y_test,y_pred_test)"
   ]
  },
  {
   "cell_type": "code",
   "execution_count": null,
   "id": "c66de535",
   "metadata": {},
   "outputs": [],
   "source": []
  },
  {
   "cell_type": "code",
   "execution_count": null,
   "id": "6188f72a",
   "metadata": {},
   "outputs": [],
   "source": []
  }
 ],
 "metadata": {
  "kernelspec": {
   "display_name": "Python 3 (ipykernel)",
   "language": "python",
   "name": "python3"
  },
  "language_info": {
   "codemirror_mode": {
    "name": "ipython",
    "version": 3
   },
   "file_extension": ".py",
   "mimetype": "text/x-python",
   "name": "python",
   "nbconvert_exporter": "python",
   "pygments_lexer": "ipython3",
   "version": "3.9.7"
  }
 },
 "nbformat": 4,
 "nbformat_minor": 5
}
