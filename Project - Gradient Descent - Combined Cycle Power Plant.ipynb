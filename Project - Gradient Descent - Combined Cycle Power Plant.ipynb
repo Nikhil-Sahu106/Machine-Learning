{
 "cells": [
  {
   "cell_type": "code",
   "execution_count": 5,
   "id": "b2960f52",
   "metadata": {},
   "outputs": [],
   "source": [
    "import numpy as np \n",
    "import pandas as pd\n",
    "from sklearn import preprocessing\n",
    "from sklearn import model_selection\n",
    "\n",
    "data_train = np.loadtxt(r\"C:\\Users\\compaq\\Desktop\\nikhil's material\\[CN] Machine Learning\\10. Projects - Gradient Descent\\2. Gradient Descent - Combined Cycle Power Plant\\train.csv\",delimiter = \",\")\n",
    "data_test = np.loadtxt(r\"C:\\Users\\compaq\\Desktop\\nikhil's material\\[CN] Machine Learning\\10. Projects - Gradient Descent\\2. Gradient Descent - Combined Cycle Power Plant\\test.csv\",delimiter = \",\")"
   ]
  },
  {
   "cell_type": "code",
   "execution_count": 6,
   "id": "63b6273e",
   "metadata": {},
   "outputs": [
    {
     "data": {
      "text/plain": [
       "(7176, 5)"
      ]
     },
     "execution_count": 6,
     "metadata": {},
     "output_type": "execute_result"
    }
   ],
   "source": [
    "data_train.shape"
   ]
  },
  {
   "cell_type": "code",
   "execution_count": 7,
   "id": "8dc4d226",
   "metadata": {},
   "outputs": [],
   "source": [
    "def gradient_descent(x,y):\n",
    "    \n",
    "    n_itr = 10000\n",
    "    l_rate =0.1\n",
    "    x=np.append(x, np.ones(len(x)).reshape(-1, 1), axis=1)\n",
    "    m = gd(x,y,l_rate,n_itr)\n",
    "    return m"
   ]
  },
  {
   "cell_type": "code",
   "execution_count": 8,
   "id": "c66b4650",
   "metadata": {},
   "outputs": [],
   "source": [
    "def gd(x,y,l_rate,n_itr):\n",
    "    \n",
    "    m=np.zeros(len(x[0]))\n",
    "    for i in range(n_itr):\n",
    "        m = step_gradient(x, y, m, l_rate)\n",
    "        print(\"itr= \", i, \"cost=\", end=' ')\n",
    "        cost(x, y, m)\n",
    "    return m"
   ]
  },
  {
   "cell_type": "code",
   "execution_count": 9,
   "id": "1e128a05",
   "metadata": {},
   "outputs": [],
   "source": [
    "def step_gradient(X,Y,m,l_rate):\n",
    "    \n",
    "    m_slope=np.zeros(len(X[0]))\n",
    "    M = len(X)\n",
    "    for i in range(M):\n",
    "        x = X[i]\n",
    "        y = Y[i]\n",
    "        for j in range(len(x)):\n",
    "            m_slope[j] += (-2/M)*(y - sum(m*x))*x[j]\n",
    "            \n",
    "    new_m = (m - l_rate*m_slope)\n",
    "    return new_m"
   ]
  },
  {
   "cell_type": "code",
   "execution_count": 10,
   "id": "bc8e18a7",
   "metadata": {},
   "outputs": [],
   "source": [
    "def cost(x,y,m):\n",
    "    cst = 0\n",
    "    M = len(x)\n",
    "    for i in range(M):\n",
    "        cst += (1/M)*((y[i] - sum(m*x[i]))**2)\n",
    "    print(cst)"
   ]
  },
  {
   "cell_type": "code",
   "execution_count": null,
   "id": "e39bfdd2",
   "metadata": {},
   "outputs": [
    {
     "name": "stdout",
     "output_type": "stream",
     "text": [
      "itr=  0 cost= 132332.28533832615\n",
      "itr=  1 cost= 84686.40853912466\n",
      "itr=  2 cost= 54200.09904237565\n",
      "itr=  3 cost= 34692.47518910894\n",
      "itr=  4 cost= 22209.441518282096\n",
      "itr=  5 cost= 14221.222142956352\n",
      "itr=  6 cost= 9109.203021089681\n",
      "itr=  7 cost= 5837.704006065693\n",
      "itr=  8 cost= 3744.012095350955\n",
      "itr=  9 cost= 2404.0548860242693\n",
      "itr=  10 cost= 1546.4591718490155\n",
      "itr=  11 cost= 997.5630357960288\n",
      "itr=  12 cost= 646.2313011272885\n",
      "itr=  13 cost= 421.34149079717685\n",
      "itr=  14 cost= 277.37698546177313\n",
      "itr=  15 cost= 185.2077698022464\n",
      "itr=  16 cost= 126.19069727997994\n",
      "itr=  17 cost= 88.39396301684997\n",
      "itr=  18 cost= 64.18092077559004\n",
      "itr=  19 cost= 48.663802174716906\n",
      "itr=  20 cost= 38.714132861732665\n",
      "itr=  21 cost= 32.32941401241289\n",
      "itr=  22 cost= 28.227803260574497\n",
      "itr=  23 cost= 25.58871027380511\n",
      "itr=  24 cost= 23.886775488411494\n",
      "itr=  25 cost= 22.785613255339964\n",
      "itr=  26 cost= 22.0698040850053\n",
      "itr=  27 cost= 21.601366507403213\n",
      "itr=  28 cost= 21.291896205146525\n",
      "itr=  29 cost= 21.084732553679096\n",
      "itr=  30 cost= 20.94354304357849\n",
      "itr=  31 cost= 20.84501545886677\n",
      "itr=  32 cost= 20.77417929430211\n",
      "itr=  33 cost= 20.721410124301055\n",
      "itr=  34 cost= 20.680511265735124\n",
      "itr=  35 cost= 20.64748508345415\n",
      "itr=  36 cost= 20.61974581547366\n",
      "itr=  37 cost= 20.59561509639681\n",
      "itr=  38 cost= 20.573998513989135\n",
      "itr=  39 cost= 20.554178116787607\n",
      "itr=  40 cost= 20.53567920623131\n",
      "itr=  41 cost= 20.518184734934778\n",
      "itr=  42 cost= 20.501480226954833\n",
      "itr=  43 cost= 20.48541827776864\n",
      "itr=  44 cost= 20.469895623781003\n",
      "itr=  45 cost= 20.45483828883595\n",
      "itr=  46 cost= 20.440191927448787\n",
      "itr=  47 cost= 20.425915517097188\n",
      "itr=  48 cost= 20.411977213458645\n",
      "itr=  49 cost= 20.398351606437604\n",
      "itr=  50 cost= 20.38501788662932\n",
      "itr=  51 cost= 20.3719586062338\n",
      "itr=  52 cost= 20.35915883034704\n",
      "itr=  53 cost= 20.34660554649369\n",
      "itr=  54 cost= 20.334287246519402\n",
      "itr=  55 cost= 20.32219362478805\n",
      "itr=  56 cost= 20.310315355877066\n",
      "itr=  57 cost= 20.298643927432348\n",
      "itr=  58 cost= 20.287171511948973\n",
      "itr=  59 cost= 20.27589086652412\n",
      "itr=  60 cost= 20.264795253108836\n",
      "itr=  61 cost= 20.25387837407253\n",
      "itr=  62 cost= 20.243134319428915\n",
      "itr=  63 cost= 20.23255752310275\n",
      "itr=  64 cost= 20.22214272632007\n",
      "itr=  65 cost= 20.21188494669345\n"
     ]
    }
   ],
   "source": [
    "x_train =data_train[:,:-1]\n",
    "y_train =data_train[:,-1]\n",
    "\n",
    "sq =[]\n",
    "for i in range(len(x_train[0])):\n",
    "    for j in range(i,len(x_train[0])):\n",
    "        sq.append(x_train[:, i]*x_train[:, j])\n",
    "sq = np.array(sq)\n",
    "for i in sq:\n",
    "    x_train = np.append(x_train,i.reshape(-1, 1), axis = 1)\n",
    "\n",
    "scl = preprocessing.StandardScaler()\n",
    "scl.fit(x_train)\n",
    "x_train = scl.transform(x_train)\n",
    "m = gradient_descent(x_train,y_train)"
   ]
  },
  {
   "cell_type": "code",
   "execution_count": null,
   "id": "d0a1af1a",
   "metadata": {},
   "outputs": [],
   "source": [
    "sq =[]\n",
    "for i in range(len(data_test[0])):\n",
    "    for j in range(i,len(data_test[0])):\n",
    "        sq.append(data_test[:,i] * data_test[:,j])       \n",
    "sq = np.array(sq)\n",
    "\n",
    "for i in sq:\n",
    "    data_test = np.append(data_test, i.reshape(-1,1),axis = 1)\n",
    "    \n",
    "test = scl.transform(data_test)\n",
    "x_test = np.append(test,np.ones(len(test)).reshape(-1,1) ,axis =1)\n",
    "\n",
    "ans = []\n",
    "for i in x_test:\n",
    "    ans.append(sum(i*m))\n",
    "    \n",
    "for i in ans:\n",
    "    print(i)\n",
    "    \n",
    "ans.np.array(ans)\n",
    "np.savetxt( X = ans, fname = 'Project_Combined_Cycle_Power_Plant.csv',delimiter = ',', fmt = \"%.5f\") "
   ]
  },
  {
   "cell_type": "code",
   "execution_count": null,
   "id": "7df5a943",
   "metadata": {},
   "outputs": [],
   "source": []
  },
  {
   "cell_type": "code",
   "execution_count": null,
   "id": "6efaa3d3",
   "metadata": {},
   "outputs": [],
   "source": []
  },
  {
   "cell_type": "code",
   "execution_count": null,
   "id": "d50bf673",
   "metadata": {},
   "outputs": [],
   "source": []
  }
 ],
 "metadata": {
  "kernelspec": {
   "display_name": "Python 3 (ipykernel)",
   "language": "python",
   "name": "python3"
  },
  "language_info": {
   "codemirror_mode": {
    "name": "ipython",
    "version": 3
   },
   "file_extension": ".py",
   "mimetype": "text/x-python",
   "name": "python",
   "nbconvert_exporter": "python",
   "pygments_lexer": "ipython3",
   "version": "3.9.7"
  }
 },
 "nbformat": 4,
 "nbformat_minor": 5
}
