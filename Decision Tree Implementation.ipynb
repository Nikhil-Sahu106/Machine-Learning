{
 "cells": [
  {
   "cell_type": "code",
   "execution_count": 53,
   "id": "9d3922b3",
   "metadata": {},
   "outputs": [],
   "source": [
    "import numpy as np\n",
    "import pandas as pd\n",
    "import math\n",
    "from sklearn import datasets"
   ]
  },
  {
   "cell_type": "code",
   "execution_count": 54,
   "id": "b1dabc3a",
   "metadata": {},
   "outputs": [],
   "source": [
    "iris = datasets.load_iris()"
   ]
  },
  {
   "cell_type": "code",
   "execution_count": 55,
   "id": "74cd273a",
   "metadata": {},
   "outputs": [],
   "source": [
    "df = pd.DataFrame(iris.data)\n",
    "df.columns = [\"sl\",\"sw\",\"pl\",\"pw\"]"
   ]
  },
  {
   "cell_type": "markdown",
   "id": "df4858bd",
   "metadata": {},
   "source": [
    "## Function to find the label for a value"
   ]
  },
  {
   "cell_type": "code",
   "execution_count": 56,
   "id": "a0957b6e",
   "metadata": {},
   "outputs": [],
   "source": [
    "def label(val, *boundaries):\n",
    "    if (val < boundaries[0]):\n",
    "        return 'a'\n",
    "    elif (val < boundaries[1]):\n",
    "        return 'b'\n",
    "    elif (val < boundaries[2]):\n",
    "        return 'c'\n",
    "    else:\n",
    "        return 'd'"
   ]
  },
  {
   "cell_type": "markdown",
   "id": "68666099",
   "metadata": {},
   "source": [
    "## Function to convert a continous data into labelled data"
   ]
  },
  {
   "cell_type": "code",
   "execution_count": 57,
   "id": "c874a43c",
   "metadata": {},
   "outputs": [],
   "source": [
    "def toLabel(df,old_feature_name):\n",
    "    second = df[old_feature_name].mean()\n",
    "    minimum = df[old_feature_name].min()\n",
    "    first = (second + minimum)/2\n",
    "    maximum = df[old_feature_name].max()\n",
    "    third = (second + maximum)/2\n",
    "    return df[old_feature_name].apply(label, args = (first, second, third))"
   ]
  },
  {
   "cell_type": "markdown",
   "id": "2646feab",
   "metadata": {},
   "source": [
    "## Convert all columns to labelled data "
   ]
  },
  {
   "cell_type": "code",
   "execution_count": 58,
   "id": "bcee7f33",
   "metadata": {},
   "outputs": [
    {
     "data": {
      "text/html": [
       "<div>\n",
       "<style scoped>\n",
       "    .dataframe tbody tr th:only-of-type {\n",
       "        vertical-align: middle;\n",
       "    }\n",
       "\n",
       "    .dataframe tbody tr th {\n",
       "        vertical-align: top;\n",
       "    }\n",
       "\n",
       "    .dataframe thead th {\n",
       "        text-align: right;\n",
       "    }\n",
       "</style>\n",
       "<table border=\"1\" class=\"dataframe\">\n",
       "  <thead>\n",
       "    <tr style=\"text-align: right;\">\n",
       "      <th></th>\n",
       "      <th>sl</th>\n",
       "      <th>sw</th>\n",
       "      <th>pl</th>\n",
       "      <th>pw</th>\n",
       "      <th>sl_labeled</th>\n",
       "      <th>sw_labeled</th>\n",
       "      <th>pl_labeled</th>\n",
       "      <th>pw_labeled</th>\n",
       "    </tr>\n",
       "  </thead>\n",
       "  <tbody>\n",
       "    <tr>\n",
       "      <th>0</th>\n",
       "      <td>5.1</td>\n",
       "      <td>3.5</td>\n",
       "      <td>1.4</td>\n",
       "      <td>0.2</td>\n",
       "      <td>b</td>\n",
       "      <td>c</td>\n",
       "      <td>a</td>\n",
       "      <td>a</td>\n",
       "    </tr>\n",
       "    <tr>\n",
       "      <th>1</th>\n",
       "      <td>4.9</td>\n",
       "      <td>3.0</td>\n",
       "      <td>1.4</td>\n",
       "      <td>0.2</td>\n",
       "      <td>a</td>\n",
       "      <td>b</td>\n",
       "      <td>a</td>\n",
       "      <td>a</td>\n",
       "    </tr>\n",
       "    <tr>\n",
       "      <th>2</th>\n",
       "      <td>4.7</td>\n",
       "      <td>3.2</td>\n",
       "      <td>1.3</td>\n",
       "      <td>0.2</td>\n",
       "      <td>a</td>\n",
       "      <td>c</td>\n",
       "      <td>a</td>\n",
       "      <td>a</td>\n",
       "    </tr>\n",
       "    <tr>\n",
       "      <th>3</th>\n",
       "      <td>4.6</td>\n",
       "      <td>3.1</td>\n",
       "      <td>1.5</td>\n",
       "      <td>0.2</td>\n",
       "      <td>a</td>\n",
       "      <td>c</td>\n",
       "      <td>a</td>\n",
       "      <td>a</td>\n",
       "    </tr>\n",
       "    <tr>\n",
       "      <th>4</th>\n",
       "      <td>5.0</td>\n",
       "      <td>3.6</td>\n",
       "      <td>1.4</td>\n",
       "      <td>0.2</td>\n",
       "      <td>a</td>\n",
       "      <td>c</td>\n",
       "      <td>a</td>\n",
       "      <td>a</td>\n",
       "    </tr>\n",
       "    <tr>\n",
       "      <th>...</th>\n",
       "      <td>...</td>\n",
       "      <td>...</td>\n",
       "      <td>...</td>\n",
       "      <td>...</td>\n",
       "      <td>...</td>\n",
       "      <td>...</td>\n",
       "      <td>...</td>\n",
       "      <td>...</td>\n",
       "    </tr>\n",
       "    <tr>\n",
       "      <th>145</th>\n",
       "      <td>6.7</td>\n",
       "      <td>3.0</td>\n",
       "      <td>5.2</td>\n",
       "      <td>2.3</td>\n",
       "      <td>c</td>\n",
       "      <td>b</td>\n",
       "      <td>c</td>\n",
       "      <td>d</td>\n",
       "    </tr>\n",
       "    <tr>\n",
       "      <th>146</th>\n",
       "      <td>6.3</td>\n",
       "      <td>2.5</td>\n",
       "      <td>5.0</td>\n",
       "      <td>1.9</td>\n",
       "      <td>c</td>\n",
       "      <td>a</td>\n",
       "      <td>c</td>\n",
       "      <td>d</td>\n",
       "    </tr>\n",
       "    <tr>\n",
       "      <th>147</th>\n",
       "      <td>6.5</td>\n",
       "      <td>3.0</td>\n",
       "      <td>5.2</td>\n",
       "      <td>2.0</td>\n",
       "      <td>c</td>\n",
       "      <td>b</td>\n",
       "      <td>c</td>\n",
       "      <td>d</td>\n",
       "    </tr>\n",
       "    <tr>\n",
       "      <th>148</th>\n",
       "      <td>6.2</td>\n",
       "      <td>3.4</td>\n",
       "      <td>5.4</td>\n",
       "      <td>2.3</td>\n",
       "      <td>c</td>\n",
       "      <td>c</td>\n",
       "      <td>d</td>\n",
       "      <td>d</td>\n",
       "    </tr>\n",
       "    <tr>\n",
       "      <th>149</th>\n",
       "      <td>5.9</td>\n",
       "      <td>3.0</td>\n",
       "      <td>5.1</td>\n",
       "      <td>1.8</td>\n",
       "      <td>c</td>\n",
       "      <td>b</td>\n",
       "      <td>c</td>\n",
       "      <td>c</td>\n",
       "    </tr>\n",
       "  </tbody>\n",
       "</table>\n",
       "<p>150 rows × 8 columns</p>\n",
       "</div>"
      ],
      "text/plain": [
       "      sl   sw   pl   pw sl_labeled sw_labeled pl_labeled pw_labeled\n",
       "0    5.1  3.5  1.4  0.2          b          c          a          a\n",
       "1    4.9  3.0  1.4  0.2          a          b          a          a\n",
       "2    4.7  3.2  1.3  0.2          a          c          a          a\n",
       "3    4.6  3.1  1.5  0.2          a          c          a          a\n",
       "4    5.0  3.6  1.4  0.2          a          c          a          a\n",
       "..   ...  ...  ...  ...        ...        ...        ...        ...\n",
       "145  6.7  3.0  5.2  2.3          c          b          c          d\n",
       "146  6.3  2.5  5.0  1.9          c          a          c          d\n",
       "147  6.5  3.0  5.2  2.0          c          b          c          d\n",
       "148  6.2  3.4  5.4  2.3          c          c          d          d\n",
       "149  5.9  3.0  5.1  1.8          c          b          c          c\n",
       "\n",
       "[150 rows x 8 columns]"
      ]
     },
     "execution_count": 58,
     "metadata": {},
     "output_type": "execute_result"
    }
   ],
   "source": [
    "df['sl_labeled'] = toLabel(df, 'sl')\n",
    "df['sw_labeled'] = toLabel(df, 'sw')\n",
    "df['pl_labeled'] = toLabel(df, 'pl')\n",
    "df['pw_labeled'] = toLabel(df, 'pw')\n",
    "df"
   ]
  },
  {
   "cell_type": "code",
   "execution_count": 59,
   "id": "fb629c4e",
   "metadata": {},
   "outputs": [],
   "source": [
    "df.drop(['sl','sw','pl','pw'],axis = 1,inplace =True)"
   ]
  },
  {
   "cell_type": "code",
   "execution_count": 60,
   "id": "b0f424cf",
   "metadata": {},
   "outputs": [
    {
     "data": {
      "text/plain": [
       "{'a', 'b', 'c', 'd'}"
      ]
     },
     "execution_count": 60,
     "metadata": {},
     "output_type": "execute_result"
    }
   ],
   "source": [
    "set(df['sl_labeled'])"
   ]
  },
  {
   "cell_type": "code",
   "execution_count": 68,
   "id": "2b15b6db",
   "metadata": {},
   "outputs": [],
   "source": [
    "def  gain_calculator(df, y):\n",
    "    current_entropy = 0\n",
    "    for class_ in set(y):\n",
    "        current_entropy -= (sum(y == class_)/len(y))*np.log10(sum(y==class_)/len(y))\n",
    "        \n",
    "       # ***************************************************************************************** #\n",
    "    \n",
    "    weight_sum_of_node_entropy = 0\n",
    "    split_info = 0\n",
    "    \n",
    "    for class_ in set(df):\n",
    "        current_y_values = y[df==class_]\n",
    "        entropy_of_perticular_node = 0\n",
    "        \n",
    "        for i in set(current_y_values):\n",
    "            entropy_of_perticular_node -=(sum(current_y_values==i)/len(current_y_values))*np.log10(sum(current_y_values == i)/len(current_y_values))\n",
    "            \n",
    "        weight_sum_of_node_entropy += entropy_of_perticular_node*(len(current_y_values)/len(y))\n",
    "        split_info -= (len(current_y_values)/len(y))*(np.log10(len(current_y_values)/len(y)))\n",
    "        \n",
    "    info_gain = current_entropy - weight_sum_of_node_entropy\n",
    "    gain_ratio = info_gain/split_info\n",
    "                \n",
    "    # ********************************************************************************************** #\n",
    "    \n",
    "    return current_entropy,gain_ratio\n",
    "    "
   ]
  },
  {
   "cell_type": "code",
   "execution_count": 69,
   "id": "58c0b386",
   "metadata": {},
   "outputs": [],
   "source": [
    "def Build_tree(df, y, unused_features):\n",
    "    \n",
    "    #BASE CASE\n",
    "    if(len(unused_features)==0) or (len(set(y))==1):\n",
    "        \n",
    "    # 1. UNUSED IS EMPTY\n",
    "    # 2. Y CONTAINS ONLY ONE DISTINCT VALUE\n",
    "        return\n",
    "    best_feature = \"\"\n",
    "    final_gain = -1\n",
    "    final_entropy = 0\n",
    "    \n",
    "    for f in  unused_features:\n",
    "        current_entropy, gain_ratio = gain_calculator(df[f], y)\n",
    "        \n",
    "        if gain_ratio>final_gain:\n",
    "            final_gain = gain_ratio\n",
    "            best_feature = f\n",
    "            final_entropy= current_entropy\n",
    "            \n",
    "    # HERE YOU SHOULD HNOW THE BEST FEATURE\n",
    "    # PRINT IT OUT \n",
    "    for i in set(y):\n",
    "        print(\"Count of:\",i,\"=\" ,sum(y==i))\n",
    "        \n",
    "    print(\"Current Entropy is: =\", final_entropy)\n",
    "    \n",
    "    if final_entropy == 0:\n",
    "        print('Reached leaf node')\n",
    "        \n",
    "    else:\n",
    "        print(\"splitting on feature\", best_feature ,\"with gain ratio\" , final_gain)\n",
    "    print()\n",
    "        \n",
    "    # REMOVE BEST FEATURE FROM UNUSED FEATURES\n",
    "    unused_features.remove(best_feature)\n",
    "    # LOOP OVER POSSIBLE BEST FEATURES\n",
    "    \n",
    "    for possible_value in set(df[best_feature]):\n",
    "        Build_tree(df.loc[df[best_feature]==possible_value], y[df[best_feature]==possible_value], unused_features)\n",
    "    \n",
    "    # CALL BUILD TREE RECURSIVELY\n",
    "    "
   ]
  },
  {
   "cell_type": "code",
   "execution_count": 70,
   "id": "e6d55452",
   "metadata": {},
   "outputs": [
    {
     "name": "stdout",
     "output_type": "stream",
     "text": [
      "Count of: 0 = 50\n",
      "Count of: 1 = 50\n",
      "Count of: 2 = 50\n",
      "Current Entropy is: = 0.4771212547196624\n",
      "splitting on feature pw_labeled with gain ratio 0.6996382036222089\n",
      "\n",
      "Count of: 1 = 40\n",
      "Count of: 2 = 16\n",
      "Current Entropy is: = 0.2598251810131059\n",
      "splitting on feature pl_labeled with gain ratio 0.43340994956210654\n",
      "\n",
      "Count of: 1 = 39\n",
      "Count of: 2 = 8\n",
      "Current Entropy is: = 0.1981353138938235\n",
      "splitting on feature sl_labeled with gain ratio 0.12674503775809334\n",
      "\n",
      "Count of: 1 = 23\n",
      "Count of: 2 = 7\n",
      "Current Entropy is: = 0.23594037110284793\n",
      "splitting on feature sw_labeled with gain ratio 0.07092036405148884\n",
      "\n"
     ]
    }
   ],
   "source": [
    "y =(iris.target)\n",
    "unused_features =set(df.columns)\n",
    "Build_tree(df, y, unused_features)"
   ]
  },
  {
   "cell_type": "code",
   "execution_count": null,
   "id": "17746bd2",
   "metadata": {},
   "outputs": [],
   "source": []
  },
  {
   "cell_type": "code",
   "execution_count": null,
   "id": "9cfa62ed",
   "metadata": {},
   "outputs": [],
   "source": []
  }
 ],
 "metadata": {
  "kernelspec": {
   "display_name": "Python 3 (ipykernel)",
   "language": "python",
   "name": "python3"
  },
  "language_info": {
   "codemirror_mode": {
    "name": "ipython",
    "version": 3
   },
   "file_extension": ".py",
   "mimetype": "text/x-python",
   "name": "python",
   "nbconvert_exporter": "python",
   "pygments_lexer": "ipython3",
   "version": "3.9.7"
  }
 },
 "nbformat": 4,
 "nbformat_minor": 5
}
