{
 "cells": [
  {
   "cell_type": "code",
   "execution_count": 51,
   "id": "e962e5c9",
   "metadata": {},
   "outputs": [],
   "source": [
    "import numpy as np\n",
    "from sklearn import preprocessing as p"
   ]
  },
  {
   "cell_type": "code",
   "execution_count": 52,
   "id": "95206500",
   "metadata": {},
   "outputs": [],
   "source": [
    "data = np.array([[1.,-1.,2.],\n",
    "                [2.,0.,0.],\n",
    "                [0.,1.,-1.]])"
   ]
  },
  {
   "cell_type": "markdown",
   "id": "bd2da1c9",
   "metadata": {},
   "source": [
    "### SCALING USING SCALE()"
   ]
  },
  {
   "cell_type": "code",
   "execution_count": 53,
   "id": "084a8248",
   "metadata": {},
   "outputs": [],
   "source": [
    "data_scaled1 = p.scale(data)"
   ]
  },
  {
   "cell_type": "code",
   "execution_count": 54,
   "id": "b3e07d40",
   "metadata": {},
   "outputs": [
    {
     "name": "stdout",
     "output_type": "stream",
     "text": [
      "[[ 0.         -1.22474487  1.33630621]\n",
      " [ 1.22474487  0.         -0.26726124]\n",
      " [-1.22474487  1.22474487 -1.06904497]]\n",
      "[0. 0. 0.]\n",
      "[1. 1. 1.]\n"
     ]
    }
   ],
   "source": [
    "print(data_scaled1)\n",
    "print(data_scaled1.mean(axis = 0))\n",
    "print(data_scaled1.std(axis = 0))"
   ]
  },
  {
   "cell_type": "markdown",
   "id": "fc5ae904",
   "metadata": {},
   "source": [
    "### FEATURE SCALING FOR TRAINING DATA"
   ]
  },
  {
   "cell_type": "code",
   "execution_count": 55,
   "id": "0ac2552b",
   "metadata": {},
   "outputs": [
    {
     "data": {
      "text/plain": [
       "array([[ 0.        , -1.22474487,  1.33630621],\n",
       "       [ 1.22474487,  0.        , -0.26726124],\n",
       "       [-1.22474487,  1.22474487, -1.06904497]])"
      ]
     },
     "execution_count": 55,
     "metadata": {},
     "output_type": "execute_result"
    }
   ],
   "source": [
    "scaler = p.StandardScaler()\n",
    "data_scaled2 = scaler.fit(data)\n",
    "data_scaled2.transform(data)"
   ]
  },
  {
   "cell_type": "markdown",
   "id": "8f75cbe4",
   "metadata": {},
   "source": [
    "### FEATURE SCALING FOR TESTING DATA"
   ]
  },
  {
   "cell_type": "code",
   "execution_count": 57,
   "id": "d6831c33",
   "metadata": {},
   "outputs": [
    {
     "data": {
      "text/plain": [
       "array([[ 0.        ,  1.22474487, -0.26726124]])"
      ]
     },
     "execution_count": 57,
     "metadata": {},
     "output_type": "execute_result"
    }
   ],
   "source": [
    "data_test = [[1,1,0]]\n",
    "scaler.transform(data_test)"
   ]
  },
  {
   "cell_type": "code",
   "execution_count": null,
   "id": "1e946bd4",
   "metadata": {},
   "outputs": [],
   "source": []
  }
 ],
 "metadata": {
  "kernelspec": {
   "display_name": "Python 3 (ipykernel)",
   "language": "python",
   "name": "python3"
  },
  "language_info": {
   "codemirror_mode": {
    "name": "ipython",
    "version": 3
   },
   "file_extension": ".py",
   "mimetype": "text/x-python",
   "name": "python",
   "nbconvert_exporter": "python",
   "pygments_lexer": "ipython3",
   "version": "3.9.7"
  }
 },
 "nbformat": 4,
 "nbformat_minor": 5
}
