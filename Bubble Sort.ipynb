{
 "cells": [
  {
   "cell_type": "code",
   "execution_count": 13,
   "id": "8a4f8abd",
   "metadata": {},
   "outputs": [
    {
     "name": "stdout",
     "output_type": "stream",
     "text": [
      "43 56 12 23 98 76 54 65 85 43 52 \n",
      "[43, 12, 23, 56, 76, 54, 65, 85, 43, 52, 98]\n",
      "[12, 23, 43, 56, 54, 65, 76, 43, 52, 85, 98]\n",
      "[12, 23, 43, 54, 56, 65, 43, 52, 76, 85, 98]\n",
      "[12, 23, 43, 54, 56, 43, 52, 65, 76, 85, 98]\n",
      "[12, 23, 43, 54, 43, 52, 56, 65, 76, 85, 98]\n",
      "[12, 23, 43, 43, 52, 54, 56, 65, 76, 85, 98]\n",
      "[12, 23, 43, 43, 52, 54, 56, 65, 76, 85, 98]\n",
      "[12, 23, 43, 43, 52, 54, 56, 65, 76, 85, 98]\n",
      "[12, 23, 43, 43, 52, 54, 56, 65, 76, 85, 98]\n",
      "[12, 23, 43, 43, 52, 54, 56, 65, 76, 85, 98]\n"
     ]
    }
   ],
   "source": [
    "# BUBBLE SORT\n",
    "\n",
    "arr = list(map(int,input().strip().split()))\n",
    "\n",
    "n = len(arr)\n",
    "for j in range(0,n-1):\n",
    "    for i in range(0,n-j-1):\n",
    "        if arr[i] > arr[i+1]:\n",
    "            temp = arr[i]\n",
    "            arr[i] = arr[i+1]\n",
    "            arr[i+1] = temp\n",
    "    print(arr)\n",
    "            "
   ]
  },
  {
   "cell_type": "code",
   "execution_count": null,
   "id": "bb26e846",
   "metadata": {},
   "outputs": [],
   "source": []
  },
  {
   "cell_type": "code",
   "execution_count": null,
   "id": "b6f3b056",
   "metadata": {},
   "outputs": [],
   "source": []
  }
 ],
 "metadata": {
  "kernelspec": {
   "display_name": "Python 3 (ipykernel)",
   "language": "python",
   "name": "python3"
  },
  "language_info": {
   "codemirror_mode": {
    "name": "ipython",
    "version": 3
   },
   "file_extension": ".py",
   "mimetype": "text/x-python",
   "name": "python",
   "nbconvert_exporter": "python",
   "pygments_lexer": "ipython3",
   "version": "3.9.7"
  }
 },
 "nbformat": 4,
 "nbformat_minor": 5
}
