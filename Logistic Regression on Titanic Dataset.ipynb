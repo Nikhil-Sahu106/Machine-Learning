{
 "cells": [
  {
   "cell_type": "code",
   "execution_count": 177,
   "id": "ce190c1d",
   "metadata": {},
   "outputs": [],
   "source": [
    "from sklearn.linear_model import LogisticRegression\n",
    "from sklearn import model_selection ,preprocessing\n",
    "import numpy as np\n",
    "import pandas as pd\n",
    "import matplotlib.pyplot as plt"
   ]
  },
  {
   "cell_type": "code",
   "execution_count": 178,
   "id": "d144bc73",
   "metadata": {},
   "outputs": [],
   "source": [
    "data_train = pd.read_csv(r\"C:\\Users\\compaq\\Desktop\\nikhil's material\\[CN] Machine Learning\\12. Project - Logistic Regression\\train.csv\")\n",
    "data_test = pd.read_csv(r\"C:\\Users\\compaq\\Desktop\\nikhil's material\\[CN] Machine Learning\\12. Project - Logistic Regression\\test.csv\")"
   ]
  },
  {
   "cell_type": "code",
   "execution_count": 179,
   "id": "b27bdd08",
   "metadata": {},
   "outputs": [
    {
     "data": {
      "text/html": [
       "<div>\n",
       "<style scoped>\n",
       "    .dataframe tbody tr th:only-of-type {\n",
       "        vertical-align: middle;\n",
       "    }\n",
       "\n",
       "    .dataframe tbody tr th {\n",
       "        vertical-align: top;\n",
       "    }\n",
       "\n",
       "    .dataframe thead th {\n",
       "        text-align: right;\n",
       "    }\n",
       "</style>\n",
       "<table border=\"1\" class=\"dataframe\">\n",
       "  <thead>\n",
       "    <tr style=\"text-align: right;\">\n",
       "      <th></th>\n",
       "      <th>Pclass</th>\n",
       "      <th>Name</th>\n",
       "      <th>Sex</th>\n",
       "      <th>Age</th>\n",
       "      <th>SibSp</th>\n",
       "      <th>Parch</th>\n",
       "      <th>Ticket</th>\n",
       "      <th>Fare</th>\n",
       "      <th>Cabin</th>\n",
       "      <th>Embarked</th>\n",
       "    </tr>\n",
       "  </thead>\n",
       "  <tbody>\n",
       "    <tr>\n",
       "      <th>0</th>\n",
       "      <td>2</td>\n",
       "      <td>Davies, Master. John Morgan Jr</td>\n",
       "      <td>male</td>\n",
       "      <td>8.0</td>\n",
       "      <td>1</td>\n",
       "      <td>1</td>\n",
       "      <td>C.A. 33112</td>\n",
       "      <td>36.7500</td>\n",
       "      <td>NaN</td>\n",
       "      <td>S</td>\n",
       "    </tr>\n",
       "    <tr>\n",
       "      <th>1</th>\n",
       "      <td>1</td>\n",
       "      <td>Leader, Dr. Alice (Farnham)</td>\n",
       "      <td>female</td>\n",
       "      <td>49.0</td>\n",
       "      <td>0</td>\n",
       "      <td>0</td>\n",
       "      <td>17465</td>\n",
       "      <td>25.9292</td>\n",
       "      <td>D17</td>\n",
       "      <td>S</td>\n",
       "    </tr>\n",
       "    <tr>\n",
       "      <th>2</th>\n",
       "      <td>3</td>\n",
       "      <td>Kilgannon, Mr. Thomas J</td>\n",
       "      <td>male</td>\n",
       "      <td>NaN</td>\n",
       "      <td>0</td>\n",
       "      <td>0</td>\n",
       "      <td>36865</td>\n",
       "      <td>7.7375</td>\n",
       "      <td>NaN</td>\n",
       "      <td>Q</td>\n",
       "    </tr>\n",
       "    <tr>\n",
       "      <th>3</th>\n",
       "      <td>2</td>\n",
       "      <td>Jacobsohn, Mrs. Sidney Samuel (Amy Frances Chr...</td>\n",
       "      <td>female</td>\n",
       "      <td>24.0</td>\n",
       "      <td>2</td>\n",
       "      <td>1</td>\n",
       "      <td>243847</td>\n",
       "      <td>27.0000</td>\n",
       "      <td>NaN</td>\n",
       "      <td>S</td>\n",
       "    </tr>\n",
       "    <tr>\n",
       "      <th>4</th>\n",
       "      <td>1</td>\n",
       "      <td>McGough, Mr. James Robert</td>\n",
       "      <td>male</td>\n",
       "      <td>36.0</td>\n",
       "      <td>0</td>\n",
       "      <td>0</td>\n",
       "      <td>PC 17473</td>\n",
       "      <td>26.2875</td>\n",
       "      <td>E25</td>\n",
       "      <td>S</td>\n",
       "    </tr>\n",
       "  </tbody>\n",
       "</table>\n",
       "</div>"
      ],
      "text/plain": [
       "   Pclass                                               Name     Sex   Age  \\\n",
       "0       2                     Davies, Master. John Morgan Jr    male   8.0   \n",
       "1       1                        Leader, Dr. Alice (Farnham)  female  49.0   \n",
       "2       3                            Kilgannon, Mr. Thomas J    male   NaN   \n",
       "3       2  Jacobsohn, Mrs. Sidney Samuel (Amy Frances Chr...  female  24.0   \n",
       "4       1                          McGough, Mr. James Robert    male  36.0   \n",
       "\n",
       "   SibSp  Parch      Ticket     Fare Cabin Embarked  \n",
       "0      1      1  C.A. 33112  36.7500   NaN        S  \n",
       "1      0      0       17465  25.9292   D17        S  \n",
       "2      0      0       36865   7.7375   NaN        Q  \n",
       "3      2      1      243847  27.0000   NaN        S  \n",
       "4      0      0    PC 17473  26.2875   E25        S  "
      ]
     },
     "execution_count": 179,
     "metadata": {},
     "output_type": "execute_result"
    }
   ],
   "source": [
    "data_test.head()"
   ]
  },
  {
   "cell_type": "markdown",
   "id": "327ac3ec",
   "metadata": {},
   "source": [
    "## Data Processing and Cleaning"
   ]
  },
  {
   "cell_type": "code",
   "execution_count": 180,
   "id": "30d15142",
   "metadata": {},
   "outputs": [],
   "source": [
    "data_train.drop([\"Name\",\"Ticket\"],axis = 1,inplace =True)"
   ]
  },
  {
   "cell_type": "code",
   "execution_count": 181,
   "id": "26457f58",
   "metadata": {},
   "outputs": [],
   "source": [
    "def males(g):\n",
    "    if g == \"male\":\n",
    "        return 1\n",
    "    else:\n",
    "        return 0\n",
    "    \n",
    "def females(g):\n",
    "    if g == \"female\":\n",
    "        return 1\n",
    "    else:\n",
    "        return 0"
   ]
  },
  {
   "cell_type": "code",
   "execution_count": 182,
   "id": "d4d6db8f",
   "metadata": {},
   "outputs": [],
   "source": [
    "data_train[\"Male\"] = data_train[\"Sex\"].apply(males)\n",
    "data_train[\"Female\"] = data_train[\"Sex\"].apply(females)"
   ]
  },
  {
   "cell_type": "code",
   "execution_count": 183,
   "id": "7173b259",
   "metadata": {},
   "outputs": [
    {
     "data": {
      "text/html": [
       "<div>\n",
       "<style scoped>\n",
       "    .dataframe tbody tr th:only-of-type {\n",
       "        vertical-align: middle;\n",
       "    }\n",
       "\n",
       "    .dataframe tbody tr th {\n",
       "        vertical-align: top;\n",
       "    }\n",
       "\n",
       "    .dataframe thead th {\n",
       "        text-align: right;\n",
       "    }\n",
       "</style>\n",
       "<table border=\"1\" class=\"dataframe\">\n",
       "  <thead>\n",
       "    <tr style=\"text-align: right;\">\n",
       "      <th></th>\n",
       "      <th>Pclass</th>\n",
       "      <th>Age</th>\n",
       "      <th>SibSp</th>\n",
       "      <th>Parch</th>\n",
       "      <th>Fare</th>\n",
       "      <th>Cabin</th>\n",
       "      <th>Embarked</th>\n",
       "      <th>Survived</th>\n",
       "      <th>Male</th>\n",
       "      <th>Female</th>\n",
       "    </tr>\n",
       "  </thead>\n",
       "  <tbody>\n",
       "    <tr>\n",
       "      <th>0</th>\n",
       "      <td>2</td>\n",
       "      <td>29.0</td>\n",
       "      <td>1</td>\n",
       "      <td>0</td>\n",
       "      <td>26.000</td>\n",
       "      <td>NaN</td>\n",
       "      <td>S</td>\n",
       "      <td>1</td>\n",
       "      <td>0</td>\n",
       "      <td>1</td>\n",
       "    </tr>\n",
       "    <tr>\n",
       "      <th>1</th>\n",
       "      <td>3</td>\n",
       "      <td>NaN</td>\n",
       "      <td>0</td>\n",
       "      <td>0</td>\n",
       "      <td>8.050</td>\n",
       "      <td>NaN</td>\n",
       "      <td>S</td>\n",
       "      <td>0</td>\n",
       "      <td>1</td>\n",
       "      <td>0</td>\n",
       "    </tr>\n",
       "    <tr>\n",
       "      <th>2</th>\n",
       "      <td>2</td>\n",
       "      <td>39.0</td>\n",
       "      <td>0</td>\n",
       "      <td>0</td>\n",
       "      <td>26.000</td>\n",
       "      <td>NaN</td>\n",
       "      <td>S</td>\n",
       "      <td>0</td>\n",
       "      <td>1</td>\n",
       "      <td>0</td>\n",
       "    </tr>\n",
       "    <tr>\n",
       "      <th>3</th>\n",
       "      <td>3</td>\n",
       "      <td>29.0</td>\n",
       "      <td>0</td>\n",
       "      <td>4</td>\n",
       "      <td>21.075</td>\n",
       "      <td>NaN</td>\n",
       "      <td>S</td>\n",
       "      <td>0</td>\n",
       "      <td>0</td>\n",
       "      <td>1</td>\n",
       "    </tr>\n",
       "    <tr>\n",
       "      <th>4</th>\n",
       "      <td>3</td>\n",
       "      <td>25.0</td>\n",
       "      <td>0</td>\n",
       "      <td>0</td>\n",
       "      <td>7.050</td>\n",
       "      <td>NaN</td>\n",
       "      <td>S</td>\n",
       "      <td>0</td>\n",
       "      <td>1</td>\n",
       "      <td>0</td>\n",
       "    </tr>\n",
       "  </tbody>\n",
       "</table>\n",
       "</div>"
      ],
      "text/plain": [
       "   Pclass   Age  SibSp  Parch    Fare Cabin Embarked  Survived  Male  Female\n",
       "0       2  29.0      1      0  26.000   NaN        S         1     0       1\n",
       "1       3   NaN      0      0   8.050   NaN        S         0     1       0\n",
       "2       2  39.0      0      0  26.000   NaN        S         0     1       0\n",
       "3       3  29.0      0      4  21.075   NaN        S         0     0       1\n",
       "4       3  25.0      0      0   7.050   NaN        S         0     1       0"
      ]
     },
     "execution_count": 183,
     "metadata": {},
     "output_type": "execute_result"
    }
   ],
   "source": [
    "data_train.drop(\"Sex\",axis = 1,inplace = True)\n",
    "data_train.head()"
   ]
  },
  {
   "cell_type": "code",
   "execution_count": 184,
   "id": "e2cee691",
   "metadata": {},
   "outputs": [
    {
     "data": {
      "text/plain": [
       "Pclass        0\n",
       "Age         132\n",
       "SibSp         0\n",
       "Parch         0\n",
       "Fare          0\n",
       "Cabin       514\n",
       "Embarked      1\n",
       "Survived      0\n",
       "Male          0\n",
       "Female        0\n",
       "dtype: int64"
      ]
     },
     "execution_count": 184,
     "metadata": {},
     "output_type": "execute_result"
    }
   ],
   "source": [
    "data_train.isnull().sum()"
   ]
  },
  {
   "cell_type": "code",
   "execution_count": 185,
   "id": "14ac796d",
   "metadata": {},
   "outputs": [],
   "source": [
    "def cherbourg(s):\n",
    "    if s==\"C\":\n",
    "        return 1\n",
    "    else:\n",
    "        return 0\n",
    "\n",
    "def queenstown(s):\n",
    "    if s==\"Q\":\n",
    "        return 1\n",
    "    else:\n",
    "        return 0\n",
    "    \n",
    "def southamptom(s):\n",
    "    if s==\"S\":\n",
    "        return 1\n",
    "    else:\n",
    "        return 0\n",
    "    \n"
   ]
  },
  {
   "cell_type": "code",
   "execution_count": 186,
   "id": "482be50b",
   "metadata": {},
   "outputs": [
    {
     "data": {
      "text/html": [
       "<div>\n",
       "<style scoped>\n",
       "    .dataframe tbody tr th:only-of-type {\n",
       "        vertical-align: middle;\n",
       "    }\n",
       "\n",
       "    .dataframe tbody tr th {\n",
       "        vertical-align: top;\n",
       "    }\n",
       "\n",
       "    .dataframe thead th {\n",
       "        text-align: right;\n",
       "    }\n",
       "</style>\n",
       "<table border=\"1\" class=\"dataframe\">\n",
       "  <thead>\n",
       "    <tr style=\"text-align: right;\">\n",
       "      <th></th>\n",
       "      <th>Pclass</th>\n",
       "      <th>Age</th>\n",
       "      <th>SibSp</th>\n",
       "      <th>Parch</th>\n",
       "      <th>Fare</th>\n",
       "      <th>Cabin</th>\n",
       "      <th>Survived</th>\n",
       "      <th>Male</th>\n",
       "      <th>Female</th>\n",
       "      <th>Cherboung</th>\n",
       "      <th>Queenstown</th>\n",
       "      <th>Southamptom</th>\n",
       "    </tr>\n",
       "  </thead>\n",
       "  <tbody>\n",
       "    <tr>\n",
       "      <th>0</th>\n",
       "      <td>2</td>\n",
       "      <td>29.0</td>\n",
       "      <td>1</td>\n",
       "      <td>0</td>\n",
       "      <td>26.000</td>\n",
       "      <td>NaN</td>\n",
       "      <td>1</td>\n",
       "      <td>0</td>\n",
       "      <td>1</td>\n",
       "      <td>0</td>\n",
       "      <td>0</td>\n",
       "      <td>1</td>\n",
       "    </tr>\n",
       "    <tr>\n",
       "      <th>1</th>\n",
       "      <td>3</td>\n",
       "      <td>NaN</td>\n",
       "      <td>0</td>\n",
       "      <td>0</td>\n",
       "      <td>8.050</td>\n",
       "      <td>NaN</td>\n",
       "      <td>0</td>\n",
       "      <td>1</td>\n",
       "      <td>0</td>\n",
       "      <td>0</td>\n",
       "      <td>0</td>\n",
       "      <td>1</td>\n",
       "    </tr>\n",
       "    <tr>\n",
       "      <th>2</th>\n",
       "      <td>2</td>\n",
       "      <td>39.0</td>\n",
       "      <td>0</td>\n",
       "      <td>0</td>\n",
       "      <td>26.000</td>\n",
       "      <td>NaN</td>\n",
       "      <td>0</td>\n",
       "      <td>1</td>\n",
       "      <td>0</td>\n",
       "      <td>0</td>\n",
       "      <td>0</td>\n",
       "      <td>1</td>\n",
       "    </tr>\n",
       "    <tr>\n",
       "      <th>3</th>\n",
       "      <td>3</td>\n",
       "      <td>29.0</td>\n",
       "      <td>0</td>\n",
       "      <td>4</td>\n",
       "      <td>21.075</td>\n",
       "      <td>NaN</td>\n",
       "      <td>0</td>\n",
       "      <td>0</td>\n",
       "      <td>1</td>\n",
       "      <td>0</td>\n",
       "      <td>0</td>\n",
       "      <td>1</td>\n",
       "    </tr>\n",
       "    <tr>\n",
       "      <th>4</th>\n",
       "      <td>3</td>\n",
       "      <td>25.0</td>\n",
       "      <td>0</td>\n",
       "      <td>0</td>\n",
       "      <td>7.050</td>\n",
       "      <td>NaN</td>\n",
       "      <td>0</td>\n",
       "      <td>1</td>\n",
       "      <td>0</td>\n",
       "      <td>0</td>\n",
       "      <td>0</td>\n",
       "      <td>1</td>\n",
       "    </tr>\n",
       "  </tbody>\n",
       "</table>\n",
       "</div>"
      ],
      "text/plain": [
       "   Pclass   Age  SibSp  Parch    Fare Cabin  Survived  Male  Female  \\\n",
       "0       2  29.0      1      0  26.000   NaN         1     0       1   \n",
       "1       3   NaN      0      0   8.050   NaN         0     1       0   \n",
       "2       2  39.0      0      0  26.000   NaN         0     1       0   \n",
       "3       3  29.0      0      4  21.075   NaN         0     0       1   \n",
       "4       3  25.0      0      0   7.050   NaN         0     1       0   \n",
       "\n",
       "   Cherboung  Queenstown  Southamptom  \n",
       "0          0           0            1  \n",
       "1          0           0            1  \n",
       "2          0           0            1  \n",
       "3          0           0            1  \n",
       "4          0           0            1  "
      ]
     },
     "execution_count": 186,
     "metadata": {},
     "output_type": "execute_result"
    }
   ],
   "source": [
    "data_train[\"Cherboung\"] = data_train.Embarked.apply(cherbourg)\n",
    "data_train[\"Queenstown\"] = data_train.Embarked.apply(queenstown)\n",
    "data_train[\"Southamptom\"] = data_train.Embarked.apply(southamptom)\n",
    "\n",
    "data_train.drop(\"Embarked\",axis =1,inplace = True)\n",
    "data_train.head()"
   ]
  },
  {
   "cell_type": "code",
   "execution_count": 187,
   "id": "e2d88fe3",
   "metadata": {},
   "outputs": [],
   "source": [
    "def cabin(x):\n",
    "    if x is np.nan:\n",
    "        return 0\n",
    "    else:\n",
    "        return 1"
   ]
  },
  {
   "cell_type": "code",
   "execution_count": 188,
   "id": "0f96f4a3",
   "metadata": {},
   "outputs": [],
   "source": [
    "data_train[\"Cabin\"] = data_train.Cabin.apply(cabin)"
   ]
  },
  {
   "cell_type": "code",
   "execution_count": 189,
   "id": "26601460",
   "metadata": {},
   "outputs": [],
   "source": [
    "data_train[\"Age\"].fillna(data_train[\"Age\"].mean(),inplace= True)"
   ]
  },
  {
   "cell_type": "code",
   "execution_count": 190,
   "id": "46825e67",
   "metadata": {},
   "outputs": [
    {
     "data": {
      "text/html": [
       "<div>\n",
       "<style scoped>\n",
       "    .dataframe tbody tr th:only-of-type {\n",
       "        vertical-align: middle;\n",
       "    }\n",
       "\n",
       "    .dataframe tbody tr th {\n",
       "        vertical-align: top;\n",
       "    }\n",
       "\n",
       "    .dataframe thead th {\n",
       "        text-align: right;\n",
       "    }\n",
       "</style>\n",
       "<table border=\"1\" class=\"dataframe\">\n",
       "  <thead>\n",
       "    <tr style=\"text-align: right;\">\n",
       "      <th></th>\n",
       "      <th>Pclass</th>\n",
       "      <th>Age</th>\n",
       "      <th>SibSp</th>\n",
       "      <th>Parch</th>\n",
       "      <th>Fare</th>\n",
       "      <th>Cabin</th>\n",
       "      <th>Survived</th>\n",
       "      <th>Male</th>\n",
       "      <th>Female</th>\n",
       "      <th>Cherboung</th>\n",
       "      <th>Queenstown</th>\n",
       "      <th>Southamptom</th>\n",
       "    </tr>\n",
       "  </thead>\n",
       "  <tbody>\n",
       "    <tr>\n",
       "      <th>0</th>\n",
       "      <td>2</td>\n",
       "      <td>29.00000</td>\n",
       "      <td>1</td>\n",
       "      <td>0</td>\n",
       "      <td>26.000</td>\n",
       "      <td>0</td>\n",
       "      <td>1</td>\n",
       "      <td>0</td>\n",
       "      <td>1</td>\n",
       "      <td>0</td>\n",
       "      <td>0</td>\n",
       "      <td>1</td>\n",
       "    </tr>\n",
       "    <tr>\n",
       "      <th>1</th>\n",
       "      <td>3</td>\n",
       "      <td>29.70056</td>\n",
       "      <td>0</td>\n",
       "      <td>0</td>\n",
       "      <td>8.050</td>\n",
       "      <td>0</td>\n",
       "      <td>0</td>\n",
       "      <td>1</td>\n",
       "      <td>0</td>\n",
       "      <td>0</td>\n",
       "      <td>0</td>\n",
       "      <td>1</td>\n",
       "    </tr>\n",
       "    <tr>\n",
       "      <th>2</th>\n",
       "      <td>2</td>\n",
       "      <td>39.00000</td>\n",
       "      <td>0</td>\n",
       "      <td>0</td>\n",
       "      <td>26.000</td>\n",
       "      <td>0</td>\n",
       "      <td>0</td>\n",
       "      <td>1</td>\n",
       "      <td>0</td>\n",
       "      <td>0</td>\n",
       "      <td>0</td>\n",
       "      <td>1</td>\n",
       "    </tr>\n",
       "    <tr>\n",
       "      <th>3</th>\n",
       "      <td>3</td>\n",
       "      <td>29.00000</td>\n",
       "      <td>0</td>\n",
       "      <td>4</td>\n",
       "      <td>21.075</td>\n",
       "      <td>0</td>\n",
       "      <td>0</td>\n",
       "      <td>0</td>\n",
       "      <td>1</td>\n",
       "      <td>0</td>\n",
       "      <td>0</td>\n",
       "      <td>1</td>\n",
       "    </tr>\n",
       "    <tr>\n",
       "      <th>4</th>\n",
       "      <td>3</td>\n",
       "      <td>25.00000</td>\n",
       "      <td>0</td>\n",
       "      <td>0</td>\n",
       "      <td>7.050</td>\n",
       "      <td>0</td>\n",
       "      <td>0</td>\n",
       "      <td>1</td>\n",
       "      <td>0</td>\n",
       "      <td>0</td>\n",
       "      <td>0</td>\n",
       "      <td>1</td>\n",
       "    </tr>\n",
       "  </tbody>\n",
       "</table>\n",
       "</div>"
      ],
      "text/plain": [
       "   Pclass       Age  SibSp  Parch    Fare  Cabin  Survived  Male  Female  \\\n",
       "0       2  29.00000      1      0  26.000      0         1     0       1   \n",
       "1       3  29.70056      0      0   8.050      0         0     1       0   \n",
       "2       2  39.00000      0      0  26.000      0         0     1       0   \n",
       "3       3  29.00000      0      4  21.075      0         0     0       1   \n",
       "4       3  25.00000      0      0   7.050      0         0     1       0   \n",
       "\n",
       "   Cherboung  Queenstown  Southamptom  \n",
       "0          0           0            1  \n",
       "1          0           0            1  \n",
       "2          0           0            1  \n",
       "3          0           0            1  \n",
       "4          0           0            1  "
      ]
     },
     "execution_count": 190,
     "metadata": {},
     "output_type": "execute_result"
    }
   ],
   "source": [
    "data_train.head()"
   ]
  },
  {
   "cell_type": "code",
   "execution_count": 191,
   "id": "2edf0342",
   "metadata": {},
   "outputs": [
    {
     "data": {
      "text/plain": [
       "Pclass         0\n",
       "Age            0\n",
       "SibSp          0\n",
       "Parch          0\n",
       "Fare           0\n",
       "Cabin          0\n",
       "Survived       0\n",
       "Male           0\n",
       "Female         0\n",
       "Cherboung      0\n",
       "Queenstown     0\n",
       "Southamptom    0\n",
       "dtype: int64"
      ]
     },
     "execution_count": 191,
     "metadata": {},
     "output_type": "execute_result"
    }
   ],
   "source": [
    "data_train.isnull().sum()"
   ]
  },
  {
   "cell_type": "code",
   "execution_count": 192,
   "id": "18c285bc",
   "metadata": {},
   "outputs": [
    {
     "data": {
      "text/html": [
       "<div>\n",
       "<style scoped>\n",
       "    .dataframe tbody tr th:only-of-type {\n",
       "        vertical-align: middle;\n",
       "    }\n",
       "\n",
       "    .dataframe tbody tr th {\n",
       "        vertical-align: top;\n",
       "    }\n",
       "\n",
       "    .dataframe thead th {\n",
       "        text-align: right;\n",
       "    }\n",
       "</style>\n",
       "<table border=\"1\" class=\"dataframe\">\n",
       "  <thead>\n",
       "    <tr style=\"text-align: right;\">\n",
       "      <th></th>\n",
       "      <th>Pclass</th>\n",
       "      <th>Age</th>\n",
       "      <th>SibSp</th>\n",
       "      <th>Parch</th>\n",
       "      <th>Fare</th>\n",
       "      <th>Cabin</th>\n",
       "      <th>Survived</th>\n",
       "      <th>Male</th>\n",
       "      <th>Female</th>\n",
       "      <th>Cherboung</th>\n",
       "      <th>Queenstown</th>\n",
       "      <th>Southamptom</th>\n",
       "    </tr>\n",
       "  </thead>\n",
       "  <tbody>\n",
       "    <tr>\n",
       "      <th>count</th>\n",
       "      <td>668.000000</td>\n",
       "      <td>668.000000</td>\n",
       "      <td>668.000000</td>\n",
       "      <td>668.000000</td>\n",
       "      <td>668.000000</td>\n",
       "      <td>668.000000</td>\n",
       "      <td>668.000000</td>\n",
       "      <td>668.000000</td>\n",
       "      <td>668.000000</td>\n",
       "      <td>668.000000</td>\n",
       "      <td>668.000000</td>\n",
       "      <td>668.000000</td>\n",
       "    </tr>\n",
       "    <tr>\n",
       "      <th>mean</th>\n",
       "      <td>2.296407</td>\n",
       "      <td>29.700560</td>\n",
       "      <td>0.528443</td>\n",
       "      <td>0.407186</td>\n",
       "      <td>32.064552</td>\n",
       "      <td>0.230539</td>\n",
       "      <td>0.402695</td>\n",
       "      <td>0.639222</td>\n",
       "      <td>0.360778</td>\n",
       "      <td>0.199102</td>\n",
       "      <td>0.074850</td>\n",
       "      <td>0.724551</td>\n",
       "    </tr>\n",
       "    <tr>\n",
       "      <th>std</th>\n",
       "      <td>0.831638</td>\n",
       "      <td>12.753571</td>\n",
       "      <td>1.080327</td>\n",
       "      <td>0.854695</td>\n",
       "      <td>45.320835</td>\n",
       "      <td>0.421493</td>\n",
       "      <td>0.490808</td>\n",
       "      <td>0.480586</td>\n",
       "      <td>0.480586</td>\n",
       "      <td>0.399624</td>\n",
       "      <td>0.263347</td>\n",
       "      <td>0.447075</td>\n",
       "    </tr>\n",
       "    <tr>\n",
       "      <th>min</th>\n",
       "      <td>1.000000</td>\n",
       "      <td>0.670000</td>\n",
       "      <td>0.000000</td>\n",
       "      <td>0.000000</td>\n",
       "      <td>0.000000</td>\n",
       "      <td>0.000000</td>\n",
       "      <td>0.000000</td>\n",
       "      <td>0.000000</td>\n",
       "      <td>0.000000</td>\n",
       "      <td>0.000000</td>\n",
       "      <td>0.000000</td>\n",
       "      <td>0.000000</td>\n",
       "    </tr>\n",
       "    <tr>\n",
       "      <th>25%</th>\n",
       "      <td>2.000000</td>\n",
       "      <td>23.000000</td>\n",
       "      <td>0.000000</td>\n",
       "      <td>0.000000</td>\n",
       "      <td>7.925000</td>\n",
       "      <td>0.000000</td>\n",
       "      <td>0.000000</td>\n",
       "      <td>0.000000</td>\n",
       "      <td>0.000000</td>\n",
       "      <td>0.000000</td>\n",
       "      <td>0.000000</td>\n",
       "      <td>0.000000</td>\n",
       "    </tr>\n",
       "    <tr>\n",
       "      <th>50%</th>\n",
       "      <td>3.000000</td>\n",
       "      <td>29.700560</td>\n",
       "      <td>0.000000</td>\n",
       "      <td>0.000000</td>\n",
       "      <td>14.750000</td>\n",
       "      <td>0.000000</td>\n",
       "      <td>0.000000</td>\n",
       "      <td>1.000000</td>\n",
       "      <td>0.000000</td>\n",
       "      <td>0.000000</td>\n",
       "      <td>0.000000</td>\n",
       "      <td>1.000000</td>\n",
       "    </tr>\n",
       "    <tr>\n",
       "      <th>75%</th>\n",
       "      <td>3.000000</td>\n",
       "      <td>35.000000</td>\n",
       "      <td>1.000000</td>\n",
       "      <td>0.000000</td>\n",
       "      <td>31.275000</td>\n",
       "      <td>0.000000</td>\n",
       "      <td>1.000000</td>\n",
       "      <td>1.000000</td>\n",
       "      <td>1.000000</td>\n",
       "      <td>0.000000</td>\n",
       "      <td>0.000000</td>\n",
       "      <td>1.000000</td>\n",
       "    </tr>\n",
       "    <tr>\n",
       "      <th>max</th>\n",
       "      <td>3.000000</td>\n",
       "      <td>80.000000</td>\n",
       "      <td>8.000000</td>\n",
       "      <td>6.000000</td>\n",
       "      <td>512.329200</td>\n",
       "      <td>1.000000</td>\n",
       "      <td>1.000000</td>\n",
       "      <td>1.000000</td>\n",
       "      <td>1.000000</td>\n",
       "      <td>1.000000</td>\n",
       "      <td>1.000000</td>\n",
       "      <td>1.000000</td>\n",
       "    </tr>\n",
       "  </tbody>\n",
       "</table>\n",
       "</div>"
      ],
      "text/plain": [
       "           Pclass         Age       SibSp       Parch        Fare       Cabin  \\\n",
       "count  668.000000  668.000000  668.000000  668.000000  668.000000  668.000000   \n",
       "mean     2.296407   29.700560    0.528443    0.407186   32.064552    0.230539   \n",
       "std      0.831638   12.753571    1.080327    0.854695   45.320835    0.421493   \n",
       "min      1.000000    0.670000    0.000000    0.000000    0.000000    0.000000   \n",
       "25%      2.000000   23.000000    0.000000    0.000000    7.925000    0.000000   \n",
       "50%      3.000000   29.700560    0.000000    0.000000   14.750000    0.000000   \n",
       "75%      3.000000   35.000000    1.000000    0.000000   31.275000    0.000000   \n",
       "max      3.000000   80.000000    8.000000    6.000000  512.329200    1.000000   \n",
       "\n",
       "         Survived        Male      Female   Cherboung  Queenstown  Southamptom  \n",
       "count  668.000000  668.000000  668.000000  668.000000  668.000000   668.000000  \n",
       "mean     0.402695    0.639222    0.360778    0.199102    0.074850     0.724551  \n",
       "std      0.490808    0.480586    0.480586    0.399624    0.263347     0.447075  \n",
       "min      0.000000    0.000000    0.000000    0.000000    0.000000     0.000000  \n",
       "25%      0.000000    0.000000    0.000000    0.000000    0.000000     0.000000  \n",
       "50%      0.000000    1.000000    0.000000    0.000000    0.000000     1.000000  \n",
       "75%      1.000000    1.000000    1.000000    0.000000    0.000000     1.000000  \n",
       "max      1.000000    1.000000    1.000000    1.000000    1.000000     1.000000  "
      ]
     },
     "execution_count": 192,
     "metadata": {},
     "output_type": "execute_result"
    }
   ],
   "source": [
    "data_train.describe()"
   ]
  },
  {
   "cell_type": "markdown",
   "id": "791aabbe",
   "metadata": {},
   "source": [
    "## using Numpy"
   ]
  },
  {
   "cell_type": "code",
   "execution_count": 193,
   "id": "5242648c",
   "metadata": {},
   "outputs": [],
   "source": [
    "data = data_train.values"
   ]
  },
  {
   "cell_type": "code",
   "execution_count": 194,
   "id": "66e958d8",
   "metadata": {},
   "outputs": [
    {
     "data": {
      "text/plain": [
       "(668, 12)"
      ]
     },
     "execution_count": 194,
     "metadata": {},
     "output_type": "execute_result"
    }
   ],
   "source": [
    "data.shape"
   ]
  },
  {
   "cell_type": "code",
   "execution_count": 195,
   "id": "39af1691",
   "metadata": {},
   "outputs": [],
   "source": [
    "x = data[:,:-1]\n",
    "y = data[:,-1]"
   ]
  },
  {
   "cell_type": "code",
   "execution_count": 196,
   "id": "eaa9024d",
   "metadata": {},
   "outputs": [
    {
     "data": {
      "text/plain": [
       "((668, 11), (668,))"
      ]
     },
     "execution_count": 196,
     "metadata": {},
     "output_type": "execute_result"
    }
   ],
   "source": [
    "x.shape,y.shape"
   ]
  },
  {
   "cell_type": "markdown",
   "id": "9fa0fa38",
   "metadata": {},
   "source": [
    "## Scaling"
   ]
  },
  {
   "cell_type": "code",
   "execution_count": 197,
   "id": "9e2be01d",
   "metadata": {},
   "outputs": [],
   "source": [
    "scaler = preprocessing.StandardScaler()"
   ]
  },
  {
   "cell_type": "code",
   "execution_count": 198,
   "id": "d33ed023",
   "metadata": {},
   "outputs": [
    {
     "data": {
      "text/plain": [
       "StandardScaler()"
      ]
     },
     "execution_count": 198,
     "metadata": {},
     "output_type": "execute_result"
    }
   ],
   "source": [
    "scaler.fit(x)"
   ]
  },
  {
   "cell_type": "code",
   "execution_count": 199,
   "id": "03f1ebb8",
   "metadata": {},
   "outputs": [],
   "source": [
    "x_scaled = scaler.transform(x)"
   ]
  },
  {
   "cell_type": "code",
   "execution_count": 200,
   "id": "7c14008a",
   "metadata": {},
   "outputs": [],
   "source": [
    "x_scaled = np.append(x_scaled,np.ones(x_scaled.shape[0]).reshape(-1,1),axis =1)"
   ]
  },
  {
   "cell_type": "markdown",
   "id": "f34f09df",
   "metadata": {},
   "source": [
    "## Train Code - predict() , fit() functions"
   ]
  },
  {
   "cell_type": "code",
   "execution_count": 201,
   "id": "519c5e94",
   "metadata": {},
   "outputs": [],
   "source": [
    "def sigmoid(agg):\n",
    "    return 1/(1+np.exp(-agg))\n",
    "\n",
    "def cost(x_train,y_train,m):\n",
    "    \n",
    "    cost_ = 0\n",
    "    N =x_train.shape[0]\n",
    "    for i in range(N):\n",
    "        agg = (x_train[i]*m).sum()\n",
    "        h = sigmoid(agg)\n",
    "        cost = -y_train[i]*np.log(h) - (1 - y_train[i])*np.log(1 - h)\n",
    "        cost_ +=cost\n",
    "    return cost_\n",
    "\n",
    "def step_gradient(x_train,y_train,lrate,m):\n",
    "    \n",
    "    N= x_train.shape[0]\n",
    "    slope_m = np.zeros(x_train.shape[1])\n",
    "    for i in range(N):\n",
    "        agg = (x_train[i]*m).sum()\n",
    "        h =sigmoid(agg)\n",
    "        slope_m += (-1/N)*(y_train[i]-h)*x_train[i]\n",
    "        \n",
    "    m =m - lrate*slope_m\n",
    "    return m \n",
    "\n",
    "def fit(x_train,y_train,epochs =100,lrate = 0.01):\n",
    "    m =np.zeros(x_train.shape[1])\n",
    "    cost_array =[]\n",
    "    unit = epochs/100\n",
    "    for i in range(epochs):\n",
    "        m = step_gradient(x_train,y_train,lrate,m)\n",
    "        cost_ = cost(x_train ,y_train,m)\n",
    "        cost_array.append(cost_)\n",
    "        \n",
    "        if i%unit == 0:\n",
    "            print(\"Epoch:{}, cost:{}\".format(i,cost_))\n",
    "            \n",
    "    return m,cost_array\n",
    "\n",
    "def predict(x_test,m):\n",
    "    \n",
    "    y_pred = []\n",
    "    N = x_test.shape[0]\n",
    "    \n",
    "    for i in range(N):\n",
    "        agg = (x_test[i]*m).sum()\n",
    "        h =sigmoid(agg)\n",
    "        \n",
    "        if h >0.5:\n",
    "            y_pred.append(1)\n",
    "        else:\n",
    "            y_pred.append(0)\n",
    "            \n",
    "        return np.array(y_pred)\n",
    "    \n",
    "def accuracy(x_test,y_pred):\n",
    "    \n",
    "    correct = 0\n",
    "    N =x_test.shape[0]\n",
    "    correct = (x_test==y_pred).sum()\n",
    "    \n",
    "    return (correct/N)*100"
   ]
  },
  {
   "cell_type": "code",
   "execution_count": 224,
   "id": "5862cb75",
   "metadata": {},
   "outputs": [
    {
     "name": "stdout",
     "output_type": "stream",
     "text": [
      "Epoch:0, cost:323.3417089303934\n",
      "Epoch:40, cost:22.116318291164163\n",
      "Epoch:80, cost:13.400297426765453\n",
      "Epoch:120, cost:10.526044992844373\n",
      "Epoch:160, cost:9.099938709632225\n",
      "Epoch:200, cost:8.243783767499185\n",
      "Epoch:240, cost:7.66861615872247\n",
      "Epoch:280, cost:7.252390195251821\n",
      "Epoch:320, cost:6.934912519047663\n",
      "Epoch:360, cost:6.683131163690605\n",
      "Epoch:400, cost:6.477397430480708\n",
      "Epoch:440, cost:6.305290928978491\n",
      "Epoch:480, cost:6.158566346488404\n",
      "Epoch:520, cost:6.031526709288477\n",
      "Epoch:560, cost:5.920102746303371\n",
      "Epoch:600, cost:5.8213051820924875\n",
      "Epoch:640, cost:5.732884890500643\n",
      "Epoch:680, cost:5.653114303132857\n",
      "Epoch:720, cost:5.5806423703332575\n",
      "Epoch:760, cost:5.514395677892935\n",
      "Epoch:800, cost:5.453509401108663\n",
      "Epoch:840, cost:5.3972780602803745\n",
      "Epoch:880, cost:5.345119727943871\n",
      "Epoch:920, cost:5.296549567453636\n",
      "Epoch:960, cost:5.251159967743415\n",
      "Epoch:1000, cost:5.2086054210170945\n",
      "Epoch:1040, cost:5.168590864115394\n",
      "Epoch:1080, cost:5.130862585429473\n",
      "Epoch:1120, cost:5.095201056957117\n",
      "Epoch:1160, cost:5.061415228317427\n",
      "Epoch:1200, cost:5.029337943290527\n",
      "Epoch:1240, cost:4.998822227099646\n",
      "Epoch:1280, cost:4.969738255555926\n",
      "Epoch:1320, cost:4.941970862884046\n",
      "Epoch:1360, cost:4.915417478623835\n",
      "Epoch:1400, cost:4.8899864089393175\n",
      "Epoch:1440, cost:4.865595396367985\n",
      "Epoch:1480, cost:4.842170406202377\n",
      "Epoch:1520, cost:4.819644598508088\n",
      "Epoch:1560, cost:4.797957453108011\n",
      "Epoch:1600, cost:4.777054021323522\n",
      "Epoch:1640, cost:4.756884283312996\n",
      "Epoch:1680, cost:4.737402593823443\n",
      "Epoch:1720, cost:4.718567202320287\n",
      "Epoch:1760, cost:4.700339835970909\n",
      "Epoch:1800, cost:4.682685335971268\n",
      "Epoch:1840, cost:4.665571339328665\n",
      "Epoch:1880, cost:4.648967999529665\n",
      "Epoch:1920, cost:4.632847740595747\n",
      "Epoch:1960, cost:4.617185039906888\n",
      "Epoch:2000, cost:4.6019562358962425\n",
      "Epoch:2040, cost:4.587139357316097\n",
      "Epoch:2080, cost:4.572713971270683\n",
      "Epoch:2120, cost:4.558661047623809\n",
      "Epoch:2160, cost:4.544962837735188\n",
      "Epoch:2200, cost:4.531602765768093\n",
      "Epoch:2240, cost:4.518565331056124\n",
      "Epoch:2280, cost:4.5058360202222705\n",
      "Epoch:2320, cost:4.493401227919114\n",
      "Epoch:2360, cost:4.481248185207548\n",
      "Epoch:2400, cost:4.469364894718594\n",
      "Epoch:2440, cost:4.457740071851549\n",
      "Epoch:2480, cost:4.446363091355002\n",
      "Epoch:2520, cost:4.435223938717837\n",
      "Epoch:2560, cost:4.424313165866148\n",
      "Epoch:2600, cost:4.41362185072243\n",
      "Epoch:2640, cost:4.403141560235225\n",
      "Epoch:2680, cost:4.3928643165323775\n",
      "Epoch:2720, cost:4.382782565890807\n",
      "Epoch:2760, cost:4.372889150249821\n",
      "Epoch:2800, cost:4.363177281025125\n",
      "Epoch:2840, cost:4.353640515007093\n",
      "Epoch:2880, cost:4.344272732150029\n",
      "Epoch:2920, cost:4.33506811507956\n",
      "Epoch:2960, cost:4.326021130163177\n",
      "Epoch:3000, cost:4.317126510005092\n",
      "Epoch:3040, cost:4.308379237240429\n",
      "Epoch:3080, cost:4.299774529516144\n",
      "Epoch:3120, cost:4.291307825557698\n",
      "Epoch:3160, cost:4.282974772229588\n",
      "Epoch:3200, cost:4.274771212507322\n",
      "Epoch:3240, cost:4.2666931742858685\n",
      "Epoch:3280, cost:4.258736859956647\n",
      "Epoch:3320, cost:4.250898636691683\n",
      "Epoch:3360, cost:4.2431750273787685\n",
      "Epoch:3400, cost:4.23556270215687\n",
      "Epoch:3440, cost:4.22805847050534\n",
      "Epoch:3480, cost:4.220659273844687\n",
      "Epoch:3520, cost:4.21336217861028\n",
      "Epoch:3560, cost:4.206164369763795\n",
      "Epoch:3600, cost:4.199063144709919\n",
      "Epoch:3640, cost:4.19205590758908\n",
      "Epoch:3680, cost:4.185140163918815\n",
      "Epoch:3720, cost:4.1783135155589655\n",
      "Epoch:3760, cost:4.171573655978066\n",
      "Epoch:3800, cost:4.1649183657996085\n",
      "Epoch:3840, cost:4.158345508609036\n",
      "Epoch:3880, cost:4.151853027003672\n",
      "Epoch:3920, cost:4.145438938869056\n",
      "Epoch:3960, cost:4.139101333866616\n",
      "[ 0.48838557 -0.24386742  0.92867119  1.00666892 -0.09988932 -0.80169065\n",
      " -0.25538031  0.5811807  -0.5811807  -6.61391295 -4.77806137  3.44739571]\n"
     ]
    }
   ],
   "source": [
    "m, cost_array = fit(x_scaled,y,4000,1)\n",
    "print(m)"
   ]
  },
  {
   "cell_type": "code",
   "execution_count": 203,
   "id": "5b2be019",
   "metadata": {},
   "outputs": [
    {
     "data": {
      "image/png": "[encoded data removed]",
      "text/plain": [
       "<Figure size 432x288 with 1 Axes>"
      ]
     },
     "metadata": {
      "needs_background": "light"
     },
     "output_type": "display_data"
    }
   ],
   "source": [
    "plt.plot(cost_array)\n",
    "plt.grid()\n",
    "plt.show()"
   ]
  },
  {
   "cell_type": "code",
   "execution_count": 204,
   "id": "60a4fdfa",
   "metadata": {},
   "outputs": [],
   "source": [
    "y_pred_train = predict(x_scaled,m) "
   ]
  },
  {
   "cell_type": "code",
   "execution_count": 205,
   "id": "c5612d3f",
   "metadata": {},
   "outputs": [
    {
     "data": {
      "text/plain": [
       "72.45508982035929"
      ]
     },
     "execution_count": 205,
     "metadata": {},
     "output_type": "execute_result"
    }
   ],
   "source": [
    "accuracy(y,y_pred_train)"
   ]
  },
  {
   "cell_type": "markdown",
   "id": "5efa9b04",
   "metadata": {},
   "source": [
    "## Loading testing data and applying preprocesssing and cleaning "
   ]
  },
  {
   "cell_type": "code",
   "execution_count": 206,
   "id": "1ceb81d9",
   "metadata": {},
   "outputs": [],
   "source": [
    "data_test.drop([\"Name\",\"Ticket\"],axis =1,inplace =True)"
   ]
  },
  {
   "cell_type": "code",
   "execution_count": 207,
   "id": "05a95f4f",
   "metadata": {},
   "outputs": [],
   "source": [
    "def males(s):\n",
    "    if s == \"male\":\n",
    "        return 1\n",
    "    else:\n",
    "        return 0"
   ]
  },
  {
   "cell_type": "code",
   "execution_count": 208,
   "id": "5aa38484",
   "metadata": {},
   "outputs": [],
   "source": [
    "def females(s):\n",
    "    if s == \"female\":\n",
    "        return 1\n",
    "    else:\n",
    "        return 0"
   ]
  },
  {
   "cell_type": "code",
   "execution_count": 209,
   "id": "77c95a64",
   "metadata": {},
   "outputs": [],
   "source": [
    "data_test[\"Male\"] = data_test[\"Sex\"].apply(males)\n",
    "data_test[\"Female\"] = data_test[\"Sex\"].apply(females)"
   ]
  },
  {
   "cell_type": "code",
   "execution_count": 210,
   "id": "57e3ec67",
   "metadata": {},
   "outputs": [],
   "source": [
    "data_test.drop([\"Sex\"],inplace = True,axis =1)"
   ]
  },
  {
   "cell_type": "code",
   "execution_count": 211,
   "id": "1c3eb3cb",
   "metadata": {},
   "outputs": [],
   "source": [
    "def Queenstown(s):\n",
    "    if s == 'Q':\n",
    "        return 1\n",
    "    else:\n",
    "        return 0\n",
    "    \n",
    "def Cheersbourg(s):\n",
    "    if s == 'C':\n",
    "        return 1\n",
    "    else:\n",
    "        return 0\n",
    "    \n",
    "def Southhamtom(s):\n",
    "    if s == 'S':\n",
    "        return 1\n",
    "    else:\n",
    "        return 0\n",
    "    \n",
    "\n"
   ]
  },
  {
   "cell_type": "code",
   "execution_count": 212,
   "id": "bbc56539",
   "metadata": {},
   "outputs": [],
   "source": [
    "data_test[\"Quennstown\"] = data_test.Embarked.apply(Queenstown)\n",
    "data_test[\"Cheersbourg\"] = data_test.Embarked.apply(Cheersbourg)\n",
    "data_test[\"Southhamptom\"] = data_test.Embarked.apply(Southhamtom)"
   ]
  },
  {
   "cell_type": "code",
   "execution_count": 213,
   "id": "0a0834fb",
   "metadata": {},
   "outputs": [],
   "source": [
    "data_test.drop([\"Embarked\"],axis =1,inplace =True)"
   ]
  },
  {
   "cell_type": "code",
   "execution_count": 214,
   "id": "38c72143",
   "metadata": {},
   "outputs": [],
   "source": [
    "data_test[\"Age\"].fillna(data_test[\"Age\"].mean(),inplace= True)"
   ]
  },
  {
   "cell_type": "code",
   "execution_count": 215,
   "id": "005eebd8",
   "metadata": {},
   "outputs": [],
   "source": [
    "def cabin(s):\n",
    "    if s == np.nan:\n",
    "        return 1\n",
    "    else:\n",
    "        return 0"
   ]
  },
  {
   "cell_type": "code",
   "execution_count": 216,
   "id": "821acc95",
   "metadata": {},
   "outputs": [],
   "source": [
    "data_test[\"Cabin\"] = data_test.Cabin.apply(cabin)"
   ]
  },
  {
   "cell_type": "code",
   "execution_count": 217,
   "id": "06fd0f20",
   "metadata": {},
   "outputs": [
    {
     "data": {
      "text/html": [
       "<div>\n",
       "<style scoped>\n",
       "    .dataframe tbody tr th:only-of-type {\n",
       "        vertical-align: middle;\n",
       "    }\n",
       "\n",
       "    .dataframe tbody tr th {\n",
       "        vertical-align: top;\n",
       "    }\n",
       "\n",
       "    .dataframe thead th {\n",
       "        text-align: right;\n",
       "    }\n",
       "</style>\n",
       "<table border=\"1\" class=\"dataframe\">\n",
       "  <thead>\n",
       "    <tr style=\"text-align: right;\">\n",
       "      <th></th>\n",
       "      <th>Pclass</th>\n",
       "      <th>Age</th>\n",
       "      <th>SibSp</th>\n",
       "      <th>Parch</th>\n",
       "      <th>Fare</th>\n",
       "      <th>Cabin</th>\n",
       "      <th>Male</th>\n",
       "      <th>Female</th>\n",
       "      <th>Quennstown</th>\n",
       "      <th>Cheersbourg</th>\n",
       "      <th>Southhamptom</th>\n",
       "    </tr>\n",
       "  </thead>\n",
       "  <tbody>\n",
       "    <tr>\n",
       "      <th>0</th>\n",
       "      <td>2</td>\n",
       "      <td>8.000000</td>\n",
       "      <td>1</td>\n",
       "      <td>1</td>\n",
       "      <td>36.7500</td>\n",
       "      <td>0</td>\n",
       "      <td>1</td>\n",
       "      <td>0</td>\n",
       "      <td>0</td>\n",
       "      <td>0</td>\n",
       "      <td>1</td>\n",
       "    </tr>\n",
       "    <tr>\n",
       "      <th>1</th>\n",
       "      <td>1</td>\n",
       "      <td>49.000000</td>\n",
       "      <td>0</td>\n",
       "      <td>0</td>\n",
       "      <td>25.9292</td>\n",
       "      <td>0</td>\n",
       "      <td>0</td>\n",
       "      <td>1</td>\n",
       "      <td>0</td>\n",
       "      <td>0</td>\n",
       "      <td>1</td>\n",
       "    </tr>\n",
       "    <tr>\n",
       "      <th>2</th>\n",
       "      <td>3</td>\n",
       "      <td>29.694775</td>\n",
       "      <td>0</td>\n",
       "      <td>0</td>\n",
       "      <td>7.7375</td>\n",
       "      <td>0</td>\n",
       "      <td>1</td>\n",
       "      <td>0</td>\n",
       "      <td>1</td>\n",
       "      <td>0</td>\n",
       "      <td>0</td>\n",
       "    </tr>\n",
       "    <tr>\n",
       "      <th>3</th>\n",
       "      <td>2</td>\n",
       "      <td>24.000000</td>\n",
       "      <td>2</td>\n",
       "      <td>1</td>\n",
       "      <td>27.0000</td>\n",
       "      <td>0</td>\n",
       "      <td>0</td>\n",
       "      <td>1</td>\n",
       "      <td>0</td>\n",
       "      <td>0</td>\n",
       "      <td>1</td>\n",
       "    </tr>\n",
       "    <tr>\n",
       "      <th>4</th>\n",
       "      <td>1</td>\n",
       "      <td>36.000000</td>\n",
       "      <td>0</td>\n",
       "      <td>0</td>\n",
       "      <td>26.2875</td>\n",
       "      <td>0</td>\n",
       "      <td>1</td>\n",
       "      <td>0</td>\n",
       "      <td>0</td>\n",
       "      <td>0</td>\n",
       "      <td>1</td>\n",
       "    </tr>\n",
       "  </tbody>\n",
       "</table>\n",
       "</div>"
      ],
      "text/plain": [
       "   Pclass        Age  SibSp  Parch     Fare  Cabin  Male  Female  Quennstown  \\\n",
       "0       2   8.000000      1      1  36.7500      0     1       0           0   \n",
       "1       1  49.000000      0      0  25.9292      0     0       1           0   \n",
       "2       3  29.694775      0      0   7.7375      0     1       0           1   \n",
       "3       2  24.000000      2      1  27.0000      0     0       1           0   \n",
       "4       1  36.000000      0      0  26.2875      0     1       0           0   \n",
       "\n",
       "   Cheersbourg  Southhamptom  \n",
       "0            0             1  \n",
       "1            0             1  \n",
       "2            0             0  \n",
       "3            0             1  \n",
       "4            0             1  "
      ]
     },
     "execution_count": 217,
     "metadata": {},
     "output_type": "execute_result"
    }
   ],
   "source": [
    "data_test.head()"
   ]
  },
  {
   "cell_type": "code",
   "execution_count": 218,
   "id": "7f41bb5f",
   "metadata": {},
   "outputs": [
    {
     "data": {
      "text/plain": [
       "Pclass          0\n",
       "Age             0\n",
       "SibSp           0\n",
       "Parch           0\n",
       "Fare            0\n",
       "Cabin           0\n",
       "Male            0\n",
       "Female          0\n",
       "Quennstown      0\n",
       "Cheersbourg     0\n",
       "Southhamptom    0\n",
       "dtype: int64"
      ]
     },
     "execution_count": 218,
     "metadata": {},
     "output_type": "execute_result"
    }
   ],
   "source": [
    "data_test.isnull().sum()"
   ]
  },
  {
   "cell_type": "code",
   "execution_count": 219,
   "id": "3569d328",
   "metadata": {},
   "outputs": [],
   "source": [
    "data_test =data_test.values"
   ]
  },
  {
   "cell_type": "code",
   "execution_count": 175,
   "id": "a51f367c",
   "metadata": {},
   "outputs": [
    {
     "data": {
      "text/plain": [
       "(223, 11)"
      ]
     },
     "execution_count": 175,
     "metadata": {},
     "output_type": "execute_result"
    }
   ],
   "source": [
    "data_test_scaled =  scaler.transform(data_test)\n",
    "data_test_scaled.shape"
   ]
  },
  {
   "cell_type": "code",
   "execution_count": 220,
   "id": "ce9a4ae7",
   "metadata": {},
   "outputs": [],
   "source": [
    "data_test_scaled = np.append(data_test_scaled,np.ones(data_test_scaled.shape[0]).reshape(-1,1),axis = 1)"
   ]
  },
  {
   "cell_type": "markdown",
   "id": "8cc100bf",
   "metadata": {},
   "source": [
    "## Getting Y Predictions For Test Data"
   ]
  },
  {
   "cell_type": "code",
   "execution_count": null,
   "id": "7bc2192a",
   "metadata": {},
   "outputs": [],
   "source": [
    "y_pred_test = predict(data_test_scaled,m)"
   ]
  },
  {
   "cell_type": "code",
   "execution_count": null,
   "id": "108f6697",
   "metadata": {},
   "outputs": [],
   "source": [
    "np.savetxt('Predictions.csv',y_pred_test)"
   ]
  },
  {
   "cell_type": "code",
   "execution_count": null,
   "id": "0c5ea0fe",
   "metadata": {},
   "outputs": [],
   "source": []
  },
  {
   "cell_type": "code",
   "execution_count": null,
   "id": "2b25e6f3",
   "metadata": {},
   "outputs": [],
   "source": []
  },
  {
   "cell_type": "code",
   "execution_count": null,
   "id": "a309abd8",
   "metadata": {},
   "outputs": [],
   "source": []
  }
 ],
 "metadata": {
  "kernelspec": {
   "display_name": "Python 3 (ipykernel)",
   "language": "python",
   "name": "python3"
  },
  "language_info": {
   "codemirror_mode": {
    "name": "ipython",
    "version": 3
   },
   "file_extension": ".py",
   "mimetype": "text/x-python",
   "name": "python",
   "nbconvert_exporter": "python",
   "pygments_lexer": "ipython3",
   "version": "3.9.7"
  }
 },
 "nbformat": 4,
 "nbformat_minor": 5
}
