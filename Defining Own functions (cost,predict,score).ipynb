{
 "cells": [
  {
   "cell_type": "code",
   "execution_count": 55,
   "id": "34a814fb",
   "metadata": {},
   "outputs": [],
   "source": [
    "import numpy as np"
   ]
  },
  {
   "cell_type": "code",
   "execution_count": 56,
   "id": "acf97904",
   "metadata": {},
   "outputs": [],
   "source": [
    "data = np.loadtxt( r\"C:\\Users\\compaq\\Desktop\\nikhil's material\\[CN] Machine Learning\\08. Linear Regression\\2.0 Files\\data.csv\" , delimiter = ',')"
   ]
  },
  {
   "cell_type": "code",
   "execution_count": 57,
   "id": "3e7c34f6",
   "metadata": {},
   "outputs": [],
   "source": [
    "x = data[:,0]\n",
    "y = data[:,1]"
   ]
  },
  {
   "cell_type": "code",
   "execution_count": 58,
   "id": "63d473b9",
   "metadata": {},
   "outputs": [],
   "source": [
    "from sklearn import model_selection"
   ]
  },
  {
   "cell_type": "code",
   "execution_count": 59,
   "id": "5f3f6560",
   "metadata": {},
   "outputs": [],
   "source": [
    "x_train,x_test,y_train,y_test = model_selection.train_test_split(x,y)"
   ]
  },
  {
   "cell_type": "code",
   "execution_count": 60,
   "id": "23844038",
   "metadata": {},
   "outputs": [],
   "source": [
    "def fit(x_train, y_train):\n",
    "    num =  (x_train * y_train).mean() - (x_train.mean() * y_train.mean())\n",
    "    den = (x_train**2).mean() - (x_train.mean())**2\n",
    "    m = num/den\n",
    "    c = y_train.mean() - m*x_train.mean() \n",
    "    return m,c"
   ]
  },
  {
   "cell_type": "code",
   "execution_count": 61,
   "id": "0dec1f8f",
   "metadata": {},
   "outputs": [],
   "source": [
    "def predict(x,m,c):\n",
    "    return m*x + c"
   ]
  },
  {
   "cell_type": "code",
   "execution_count": 62,
   "id": "0dbfb9bd",
   "metadata": {},
   "outputs": [],
   "source": [
    "def score(y_truth, y_pred):\n",
    "    u = ( y_truth - y_pred **2).sum()\n",
    "    v = ((y_truth - y_truth.mean())**2).sum()\n",
    "    return 1 - u/v"
   ]
  },
  {
   "cell_type": "code",
   "execution_count": 63,
   "id": "ea3e6bdd",
   "metadata": {},
   "outputs": [],
   "source": [
    "def cost(x,y,m,c):\n",
    "    return ((y - m*x - c)**2).mean()"
   ]
  },
  {
   "cell_type": "code",
   "execution_count": 64,
   "id": "8ab1e099",
   "metadata": {
    "scrolled": true
   },
   "outputs": [
    {
     "name": "stdout",
     "output_type": "stream",
     "text": [
      "Test score: 23.082456780607398\n"
     ]
    }
   ],
   "source": [
    "m,c = fit(x_train,y_train)\n",
    "\n",
    "#test data\n",
    "\n",
    "y_test_pred = predict(x_test,m,c)\n",
    "print(\"Test score:\",score(y_test,y_test_pred))"
   ]
  },
  {
   "cell_type": "code",
   "execution_count": 65,
   "id": "15f3fb95",
   "metadata": {},
   "outputs": [
    {
     "name": "stdout",
     "output_type": "stream",
     "text": [
      "Train score: 21.733215013691684\n",
      "M , C 1.2965592698703965 10.772847525614132\n",
      "cost on training data 110.5024175460088\n"
     ]
    }
   ],
   "source": [
    "y_train_pred = predict(x_train,m,c)\n",
    "print(\"Train score:\",score(y_train,y_train_pred))\n",
    "print(\"M , C\",m,c)\n",
    "print(\"cost on training data\", cost(x_train,y_train,m,c))"
   ]
  },
  {
   "cell_type": "code",
   "execution_count": null,
   "id": "00dd5770",
   "metadata": {},
   "outputs": [],
   "source": []
  },
  {
   "cell_type": "code",
   "execution_count": null,
   "id": "bee99a18",
   "metadata": {},
   "outputs": [],
   "source": []
  }
 ],
 "metadata": {
  "kernelspec": {
   "display_name": "Python 3 (ipykernel)",
   "language": "python",
   "name": "python3"
  },
  "language_info": {
   "codemirror_mode": {
    "name": "ipython",
    "version": 3
   },
   "file_extension": ".py",
   "mimetype": "text/x-python",
   "name": "python",
   "nbconvert_exporter": "python",
   "pygments_lexer": "ipython3",
   "version": "3.9.7"
  }
 },
 "nbformat": 4,
 "nbformat_minor": 5
}
