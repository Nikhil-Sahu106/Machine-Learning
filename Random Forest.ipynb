{
 "cells": [
  {
   "cell_type": "code",
   "execution_count": 99,
   "id": "40f0fac0",
   "metadata": {},
   "outputs": [],
   "source": [
    "import pandas as pd\n",
    "import numpy as np"
   ]
  },
  {
   "cell_type": "code",
   "execution_count": 100,
   "id": "2a86a7b1",
   "metadata": {},
   "outputs": [],
   "source": [
    "titanic = pd.read_csv(r'C:\\Users\\compaq\\Downloads\\titanic_train.csv')"
   ]
  },
  {
   "cell_type": "code",
   "execution_count": 101,
   "id": "53791f4e",
   "metadata": {},
   "outputs": [
    {
     "data": {
      "text/html": [
       "<div>\n",
       "<style scoped>\n",
       "    .dataframe tbody tr th:only-of-type {\n",
       "        vertical-align: middle;\n",
       "    }\n",
       "\n",
       "    .dataframe tbody tr th {\n",
       "        vertical-align: top;\n",
       "    }\n",
       "\n",
       "    .dataframe thead th {\n",
       "        text-align: right;\n",
       "    }\n",
       "</style>\n",
       "<table border=\"1\" class=\"dataframe\">\n",
       "  <thead>\n",
       "    <tr style=\"text-align: right;\">\n",
       "      <th></th>\n",
       "      <th>Survived</th>\n",
       "      <th>Pclass</th>\n",
       "      <th>Name</th>\n",
       "      <th>Sex</th>\n",
       "      <th>Age</th>\n",
       "      <th>SibSp</th>\n",
       "      <th>Parch</th>\n",
       "      <th>Ticket</th>\n",
       "      <th>Fare</th>\n",
       "      <th>Cabin</th>\n",
       "      <th>Embarked</th>\n",
       "    </tr>\n",
       "  </thead>\n",
       "  <tbody>\n",
       "    <tr>\n",
       "      <th>0</th>\n",
       "      <td>0</td>\n",
       "      <td>3</td>\n",
       "      <td>Braund, Mr. Owen Harris</td>\n",
       "      <td>male</td>\n",
       "      <td>22.0</td>\n",
       "      <td>1</td>\n",
       "      <td>0</td>\n",
       "      <td>A/5 21171</td>\n",
       "      <td>7.2500</td>\n",
       "      <td>NaN</td>\n",
       "      <td>S</td>\n",
       "    </tr>\n",
       "    <tr>\n",
       "      <th>1</th>\n",
       "      <td>1</td>\n",
       "      <td>1</td>\n",
       "      <td>Cumings, Mrs. John Bradley (Florence Briggs Th...</td>\n",
       "      <td>female</td>\n",
       "      <td>38.0</td>\n",
       "      <td>1</td>\n",
       "      <td>0</td>\n",
       "      <td>PC 17599</td>\n",
       "      <td>71.2833</td>\n",
       "      <td>C85</td>\n",
       "      <td>C</td>\n",
       "    </tr>\n",
       "    <tr>\n",
       "      <th>2</th>\n",
       "      <td>1</td>\n",
       "      <td>3</td>\n",
       "      <td>Heikkinen, Miss. Laina</td>\n",
       "      <td>female</td>\n",
       "      <td>26.0</td>\n",
       "      <td>0</td>\n",
       "      <td>0</td>\n",
       "      <td>STON/O2. 3101282</td>\n",
       "      <td>7.9250</td>\n",
       "      <td>NaN</td>\n",
       "      <td>S</td>\n",
       "    </tr>\n",
       "    <tr>\n",
       "      <th>3</th>\n",
       "      <td>1</td>\n",
       "      <td>1</td>\n",
       "      <td>Futrelle, Mrs. Jacques Heath (Lily May Peel)</td>\n",
       "      <td>female</td>\n",
       "      <td>35.0</td>\n",
       "      <td>1</td>\n",
       "      <td>0</td>\n",
       "      <td>113803</td>\n",
       "      <td>53.1000</td>\n",
       "      <td>C123</td>\n",
       "      <td>S</td>\n",
       "    </tr>\n",
       "    <tr>\n",
       "      <th>4</th>\n",
       "      <td>0</td>\n",
       "      <td>3</td>\n",
       "      <td>Allen, Mr. William Henry</td>\n",
       "      <td>male</td>\n",
       "      <td>35.0</td>\n",
       "      <td>0</td>\n",
       "      <td>0</td>\n",
       "      <td>373450</td>\n",
       "      <td>8.0500</td>\n",
       "      <td>NaN</td>\n",
       "      <td>S</td>\n",
       "    </tr>\n",
       "  </tbody>\n",
       "</table>\n",
       "</div>"
      ],
      "text/plain": [
       "   Survived  Pclass                                               Name  \\\n",
       "0         0       3                            Braund, Mr. Owen Harris   \n",
       "1         1       1  Cumings, Mrs. John Bradley (Florence Briggs Th...   \n",
       "2         1       3                             Heikkinen, Miss. Laina   \n",
       "3         1       1       Futrelle, Mrs. Jacques Heath (Lily May Peel)   \n",
       "4         0       3                           Allen, Mr. William Henry   \n",
       "\n",
       "      Sex   Age  SibSp  Parch            Ticket     Fare Cabin Embarked  \n",
       "0    male  22.0      1      0         A/5 21171   7.2500   NaN        S  \n",
       "1  female  38.0      1      0          PC 17599  71.2833   C85        C  \n",
       "2  female  26.0      0      0  STON/O2. 3101282   7.9250   NaN        S  \n",
       "3  female  35.0      1      0            113803  53.1000  C123        S  \n",
       "4    male  35.0      0      0            373450   8.0500   NaN        S  "
      ]
     },
     "execution_count": 101,
     "metadata": {},
     "output_type": "execute_result"
    }
   ],
   "source": [
    "titanic.shape\n",
    "del titanic['PassengerId']\n",
    "titanic.shape\n",
    "titanic.head()"
   ]
  },
  {
   "cell_type": "code",
   "execution_count": 102,
   "id": "bc73eece",
   "metadata": {},
   "outputs": [
    {
     "data": {
      "text/plain": [
       "0      0\n",
       "1      1\n",
       "2      1\n",
       "3      1\n",
       "4      0\n",
       "      ..\n",
       "886    0\n",
       "887    1\n",
       "888    0\n",
       "889    1\n",
       "890    0\n",
       "Name: Survived, Length: 891, dtype: int64"
      ]
     },
     "execution_count": 102,
     "metadata": {},
     "output_type": "execute_result"
    }
   ],
   "source": [
    "x = titanic.iloc[:,1:]\n",
    "y = titanic.iloc[:,0]\n",
    "y"
   ]
  },
  {
   "cell_type": "code",
   "execution_count": 103,
   "id": "6cfbc335",
   "metadata": {},
   "outputs": [
    {
     "name": "stdout",
     "output_type": "stream",
     "text": [
      "<class 'pandas.core.frame.DataFrame'>\n",
      "<class 'pandas.core.series.Series'>\n",
      "<class 'pandas.core.series.Series'>\n"
     ]
    }
   ],
   "source": [
    "from sklearn import model_selection as ms\n",
    "\n",
    "x_train,x_test,y_train,y_test = ms.train_test_split(x,y)\n",
    "\n",
    "print(type(x_train))\n",
    "print(type(y_train))\n",
    "print(type(y_test))"
   ]
  },
  {
   "cell_type": "code",
   "execution_count": 104,
   "id": "3074acb0",
   "metadata": {},
   "outputs": [
    {
     "name": "stdout",
     "output_type": "stream",
     "text": [
      "(668, 11)\n",
      "(223, 10)\n",
      "(668,)\n"
     ]
    }
   ],
   "source": [
    "x_y_train = x_train.copy()\n",
    "x_y_train['Survived'] = y_train\n",
    "\n",
    "print(x_y_train.shape)\n",
    "print(x_test.shape)\n",
    "print(y_train.shape)\n",
    "\n",
    "x_y_train.to_csv(r\"C:\\Users\\compaq\\Desktop\\nikhil's material\\[CN] Machine Learning\\18. Random Forests\\datasets of titanic\\titanic_x_y_train.csv\", index=False)\n",
    "x_train.to_csv(r\"C:\\Users\\compaq\\Desktop\\nikhil's material\\[CN] Machine Learning\\18. Random Forests\\datasets of titanic\\titanic_x_train.csv\", index=False)\n",
    "y_train.to_csv(r\"C:\\Users\\compaq\\Desktop\\nikhil's material\\[CN] Machine Learning\\18. Random Forests\\datasets of titanic\\titanic_y_train.csv\", index=False)\n",
    "x_test.to_csv(r\"C:\\Users\\compaq\\Desktop\\nikhil's material\\[CN] Machine Learning\\18. Random Forests\\datasets of titanic\\titanic_x_test.csv\", index=False)\n",
    "y_test.to_csv(r\"C:\\Users\\compaq\\Desktop\\nikhil's material\\[CN] Machine Learning\\18. Random Forests\\datasets of titanic\\titanic_y_test.csv\", index=False)"
   ]
  },
  {
   "cell_type": "code",
   "execution_count": 105,
   "id": "0576b0d9",
   "metadata": {},
   "outputs": [],
   "source": [
    "x_y_train_l = pd.read_csv(r\"C:\\Users\\compaq\\Desktop\\nikhil's material\\[CN] Machine Learning\\18. Random Forests\\datasets of titanic\\titanic_x_y_train.csv\", delimiter=',')\n",
    "x_test_l = pd.read_csv(r\"C:\\Users\\compaq\\Desktop\\nikhil's material\\[CN] Machine Learning\\18. Random Forests\\datasets of titanic\\titanic_x_test.csv\", delimiter=',')"
   ]
  },
  {
   "cell_type": "markdown",
   "id": "0dc7290e",
   "metadata": {},
   "source": [
    "### Data Cleaning in Training and Testing Data "
   ]
  },
  {
   "cell_type": "code",
   "execution_count": 106,
   "id": "04a6bd56",
   "metadata": {},
   "outputs": [
    {
     "name": "stdout",
     "output_type": "stream",
     "text": [
      "(668, 11)\n"
     ]
    },
    {
     "data": {
      "text/plain": [
       "Pclass        0\n",
       "Name          0\n",
       "Sex           0\n",
       "Age         131\n",
       "SibSp         0\n",
       "Parch         0\n",
       "Ticket        0\n",
       "Fare          0\n",
       "Cabin       519\n",
       "Embarked      2\n",
       "Survived      0\n",
       "dtype: int64"
      ]
     },
     "execution_count": 106,
     "metadata": {},
     "output_type": "execute_result"
    }
   ],
   "source": [
    "print(x_y_train_l.shape)\n",
    "x_y_train_l.isnull().sum()\n",
    "\n",
    "#X_Y_train_l.head()"
   ]
  },
  {
   "cell_type": "code",
   "execution_count": 107,
   "id": "3bd4ac58",
   "metadata": {},
   "outputs": [],
   "source": [
    "del x_y_train_l[\"Name\"]\n",
    "del x_y_train_l[\"Ticket\"]\n",
    "del x_y_train_l[\"Cabin\"]\n",
    "del x_y_train_l[\"Fare\"]\n",
    "\n",
    "del x_test_l[\"Name\"]\n",
    "del x_test_l[\"Ticket\"]\n",
    "del x_test_l[\"Fare\"]\n",
    "del x_test_l[\"Cabin\"]"
   ]
  },
  {
   "cell_type": "code",
   "execution_count": 108,
   "id": "de47aef0",
   "metadata": {},
   "outputs": [
    {
     "name": "stdout",
     "output_type": "stream",
     "text": [
      "Pclass        0\n",
      "Sex           0\n",
      "Age         131\n",
      "SibSp         0\n",
      "Parch         0\n",
      "Embarked      2\n",
      "Survived      0\n",
      "dtype: int64\n",
      "(668, 7)\n",
      "Pclass      0\n",
      "Sex         0\n",
      "Age         0\n",
      "SibSp       0\n",
      "Parch       0\n",
      "Embarked    0\n",
      "Survived    0\n",
      "dtype: int64\n"
     ]
    },
    {
     "data": {
      "text/plain": [
       "(668, 7)"
      ]
     },
     "execution_count": 108,
     "metadata": {},
     "output_type": "execute_result"
    }
   ],
   "source": [
    "print(x_y_train_l.isnull().sum())\n",
    "print(x_y_train_l.shape)\n",
    "#X_Y_train_l.dropna(inplace=True)\n",
    "x_y_train_l = x_y_train_l.fillna(x_train_l.median())\n",
    "print(x_y_train_l.isnull().sum())\n",
    "x_y_train_l.shape"
   ]
  },
  {
   "cell_type": "code",
   "execution_count": 109,
   "id": "b93564d2",
   "metadata": {},
   "outputs": [
    {
     "name": "stdout",
     "output_type": "stream",
     "text": [
      "Pclass      0\n",
      "Sex         0\n",
      "Age         0\n",
      "SibSp       0\n",
      "Parch       0\n",
      "Embarked    0\n",
      "Survived    0\n",
      "dtype: int64\n"
     ]
    },
    {
     "data": {
      "text/plain": [
       "(668, 7)"
      ]
     },
     "execution_count": 109,
     "metadata": {},
     "output_type": "execute_result"
    }
   ],
   "source": [
    "x_y_train_l.dropna(inplace=True)\n",
    "print(x_y_train_l.isnull().sum())\n",
    "x_y_train_l.shape"
   ]
  },
  {
   "cell_type": "code",
   "execution_count": 110,
   "id": "8fdd9124",
   "metadata": {},
   "outputs": [
    {
     "name": "stdout",
     "output_type": "stream",
     "text": [
      "(668, 6)\n",
      "(668,)\n",
      "0      1\n",
      "1      0\n",
      "2      0\n",
      "3      1\n",
      "4      1\n",
      "      ..\n",
      "663    0\n",
      "664    1\n",
      "665    0\n",
      "666    0\n",
      "667    1\n",
      "Name: Survived, Length: 668, dtype: int64\n"
     ]
    }
   ],
   "source": [
    "x_train_l = x_y_train_l.iloc[:,:-1]\n",
    "print(x_train_l.shape)\n",
    "y_train_l = x_y_train_l.iloc[:,-1]\n",
    "print(y_train_l.shape)\n",
    "print(y_train_l)"
   ]
  },
  {
   "cell_type": "code",
   "execution_count": 111,
   "id": "d865e4ec",
   "metadata": {},
   "outputs": [
    {
     "name": "stdout",
     "output_type": "stream",
     "text": [
      "     Pclass     Sex    Age  SibSp  Parch Embarked  gender\n",
      "0         3    male   3.00      1      1        S       1\n",
      "1         3    male  21.00      0      0        S       1\n",
      "2         3    male    NaN      0      0        Q       1\n",
      "3         3    male  34.00      0      0        S       1\n",
      "4         3    male  20.00      1      0        S       1\n",
      "..      ...     ...    ...    ...    ...      ...     ...\n",
      "218       3  female   9.00      1      1        C       0\n",
      "219       3    male  23.00      0      0        S       1\n",
      "220       3    male  35.00      0      0        S       1\n",
      "221       3  female   0.75      2      1        C       0\n",
      "222       1    male  65.00      0      1        C       1\n",
      "\n",
      "[223 rows x 7 columns]\n"
     ]
    },
    {
     "data": {
      "text/html": [
       "<div>\n",
       "<style scoped>\n",
       "    .dataframe tbody tr th:only-of-type {\n",
       "        vertical-align: middle;\n",
       "    }\n",
       "\n",
       "    .dataframe tbody tr th {\n",
       "        vertical-align: top;\n",
       "    }\n",
       "\n",
       "    .dataframe thead th {\n",
       "        text-align: right;\n",
       "    }\n",
       "</style>\n",
       "<table border=\"1\" class=\"dataframe\">\n",
       "  <thead>\n",
       "    <tr style=\"text-align: right;\">\n",
       "      <th></th>\n",
       "      <th>Pclass</th>\n",
       "      <th>Age</th>\n",
       "      <th>SibSp</th>\n",
       "      <th>Parch</th>\n",
       "      <th>Embarked</th>\n",
       "      <th>gender</th>\n",
       "    </tr>\n",
       "  </thead>\n",
       "  <tbody>\n",
       "    <tr>\n",
       "      <th>0</th>\n",
       "      <td>3</td>\n",
       "      <td>3.0</td>\n",
       "      <td>1</td>\n",
       "      <td>1</td>\n",
       "      <td>S</td>\n",
       "      <td>1</td>\n",
       "    </tr>\n",
       "    <tr>\n",
       "      <th>1</th>\n",
       "      <td>3</td>\n",
       "      <td>21.0</td>\n",
       "      <td>0</td>\n",
       "      <td>0</td>\n",
       "      <td>S</td>\n",
       "      <td>1</td>\n",
       "    </tr>\n",
       "    <tr>\n",
       "      <th>2</th>\n",
       "      <td>3</td>\n",
       "      <td>NaN</td>\n",
       "      <td>0</td>\n",
       "      <td>0</td>\n",
       "      <td>Q</td>\n",
       "      <td>1</td>\n",
       "    </tr>\n",
       "    <tr>\n",
       "      <th>3</th>\n",
       "      <td>3</td>\n",
       "      <td>34.0</td>\n",
       "      <td>0</td>\n",
       "      <td>0</td>\n",
       "      <td>S</td>\n",
       "      <td>1</td>\n",
       "    </tr>\n",
       "    <tr>\n",
       "      <th>4</th>\n",
       "      <td>3</td>\n",
       "      <td>20.0</td>\n",
       "      <td>1</td>\n",
       "      <td>0</td>\n",
       "      <td>S</td>\n",
       "      <td>1</td>\n",
       "    </tr>\n",
       "  </tbody>\n",
       "</table>\n",
       "</div>"
      ],
      "text/plain": [
       "   Pclass   Age  SibSp  Parch Embarked  gender\n",
       "0       3   3.0      1      1        S       1\n",
       "1       3  21.0      0      0        S       1\n",
       "2       3   NaN      0      0        Q       1\n",
       "3       3  34.0      0      0        S       1\n",
       "4       3  20.0      1      0        S       1"
      ]
     },
     "execution_count": 111,
     "metadata": {},
     "output_type": "execute_result"
    }
   ],
   "source": [
    "def getNumber(str):\n",
    "    if str==\"male\":\n",
    "        return 1\n",
    "    else:\n",
    "        return 0\n",
    "x_train_l['gender']=x_train_l[\"Sex\"].apply(getNumber)\n",
    "del x_train_l[\"Sex\"]\n",
    "x_train_l.head()\n",
    "\n",
    "x_test_l['gender']=x_test_l[\"Sex\"].apply(getNumber)\n",
    "print(x_test_l)\n",
    "del x_test_l[\"Sex\"]\n",
    "x_test_l.head()"
   ]
  },
  {
   "cell_type": "code",
   "execution_count": 112,
   "id": "97abe269",
   "metadata": {},
   "outputs": [
    {
     "name": "stdout",
     "output_type": "stream",
     "text": [
      "     Pclass    Age  SibSp  Parch  Embarked  gender\n",
      "0         2  24.00      0      0         3       0\n",
      "1         3  18.00      0      0         3       1\n",
      "2         1  37.00      1      0         3       1\n",
      "3         2   0.83      1      1         3       1\n",
      "4         3  22.00      0      0         3       0\n",
      "..      ...    ...    ...    ...       ...     ...\n",
      "663       3  23.00      0      0         3       1\n",
      "664       2  30.00      0      0         2       0\n",
      "665       3  40.00      1      1         2       1\n",
      "666       3  51.00      0      0         3       1\n",
      "667       1  45.00      1      1         3       0\n",
      "\n",
      "[668 rows x 6 columns]\n",
      "     Pclass    Age  SibSp  Parch  Embarked  gender\n",
      "0         3   3.00      1      1         3       1\n",
      "1         3  21.00      0      0         3       1\n",
      "2         3    NaN      0      0         2       1\n",
      "3         3  34.00      0      0         3       1\n",
      "4         3  20.00      1      0         3       1\n",
      "..      ...    ...    ...    ...       ...     ...\n",
      "218       3   9.00      1      1         1       0\n",
      "219       3  23.00      0      0         3       1\n",
      "220       3  35.00      0      0         3       1\n",
      "221       3   0.75      2      1         1       0\n",
      "222       1  65.00      0      1         1       1\n",
      "\n",
      "[223 rows x 6 columns]\n"
     ]
    }
   ],
   "source": [
    "def getNumberEmbarked(str):\n",
    "    if str=='C':\n",
    "        return 1\n",
    "    elif str=='Q':\n",
    "        return 2\n",
    "    else:\n",
    "        return 3\n",
    "x_train_l['Embarked']=x_train_l[\"Embarked\"].apply(getNumberEmbarked)\n",
    "print(x_train_l)\n",
    "\n",
    "x_test_l['Embarked']=x_test_l[\"Embarked\"].apply(getNumberEmbarked)\n",
    "print(x_test_l)"
   ]
  },
  {
   "cell_type": "code",
   "execution_count": 113,
   "id": "ea497cd1",
   "metadata": {},
   "outputs": [
    {
     "name": "stdout",
     "output_type": "stream",
     "text": [
      "Pclass       0\n",
      "Age         46\n",
      "SibSp        0\n",
      "Parch        0\n",
      "Embarked     0\n",
      "gender       0\n",
      "dtype: int64\n"
     ]
    },
    {
     "data": {
      "text/plain": [
       "Pclass      0\n",
       "Age         0\n",
       "SibSp       0\n",
       "Parch       0\n",
       "Embarked    0\n",
       "gender      0\n",
       "dtype: int64"
      ]
     },
     "execution_count": 113,
     "metadata": {},
     "output_type": "execute_result"
    }
   ],
   "source": [
    "print(x_test_l.isnull().sum())\n",
    "x_test_l = x_test_l.fillna(x_test_l.median())\n",
    "x_test_l.isnull().sum()"
   ]
  },
  {
   "cell_type": "markdown",
   "id": "c97c6e9c",
   "metadata": {},
   "source": [
    "### Caliling Classifier For Random Forest "
   ]
  },
  {
   "cell_type": "code",
   "execution_count": 119,
   "id": "88bf0b78",
   "metadata": {},
   "outputs": [],
   "source": [
    "from sklearn.ensemble import RandomForestClassifier"
   ]
  },
  {
   "cell_type": "markdown",
   "id": "064e557a",
   "metadata": {},
   "source": [
    "### Fitting,Prediction,Score"
   ]
  },
  {
   "cell_type": "code",
   "execution_count": 120,
   "id": "5f1e255c",
   "metadata": {},
   "outputs": [
    {
     "name": "stdout",
     "output_type": "stream",
     "text": [
      "TRAIN Score: 0.8622754491017964\n",
      "TEST Score: 0.820627802690583\n"
     ]
    }
   ],
   "source": [
    "clf = RandomForestClassifier(max_depth = 6)\n",
    "clf.fit(x_train_l,y_train_l)\n",
    "print(\"TRAIN Score:\",clf.score(x_train_l,y_train_l))\n",
    "print(\"TEST Score:\",clf.score(x_test_l,y_test))"
   ]
  },
  {
   "cell_type": "markdown",
   "id": "1a9c3ad1",
   "metadata": {},
   "source": [
    "## Random Forest vs Decision Tree"
   ]
  },
  {
   "cell_type": "code",
   "execution_count": 121,
   "id": "c4678382",
   "metadata": {},
   "outputs": [
    {
     "name": "stdout",
     "output_type": "stream",
     "text": [
      "TRAIN Score: 0.9326347305389222\n",
      "TEST Score: 0.7892376681614349\n"
     ]
    }
   ],
   "source": [
    "from sklearn import tree\n",
    "clf = tree.DecisionTreeClassifier()\n",
    "clf.fit(x_train_l, y_train_l)\n",
    "y_pred_l = clf.predict(x_test_l)\n",
    "print(\"TRAIN Score:\",clf.score(x_train_l,y_train_l))\n",
    "print(\"TEST Score:\",clf.score(x_test_l,y_test))\n"
   ]
  },
  {
   "cell_type": "code",
   "execution_count": null,
   "id": "641829c2",
   "metadata": {},
   "outputs": [],
   "source": []
  },
  {
   "cell_type": "code",
   "execution_count": null,
   "id": "0806b917",
   "metadata": {},
   "outputs": [],
   "source": []
  },
  {
   "cell_type": "code",
   "execution_count": null,
   "id": "7d000fb1",
   "metadata": {},
   "outputs": [],
   "source": []
  }
 ],
 "metadata": {
  "kernelspec": {
   "display_name": "Python 3 (ipykernel)",
   "language": "python",
   "name": "python3"
  },
  "language_info": {
   "codemirror_mode": {
    "name": "ipython",
    "version": 3
   },
   "file_extension": ".py",
   "mimetype": "text/x-python",
   "name": "python",
   "nbconvert_exporter": "python",
   "pygments_lexer": "ipython3",
   "version": "3.9.7"
  }
 },
 "nbformat": 4,
 "nbformat_minor": 5
}
